{
 "cells": [
  {
   "cell_type": "code",
   "execution_count": null,
   "metadata": {},
   "outputs": [],
   "source": [
    "import sys\n",
    "sys.path.append(\"..\") # for sibling import\n",
    "\n",
    "import torch\n",
    "import walnut\n",
    "import walnut.nn as nn"
   ]
  },
  {
   "cell_type": "code",
   "execution_count": null,
   "metadata": {},
   "outputs": [],
   "source": [
    "batches = 5\n",
    "in_channels = 3\n",
    "out_channels = 4\n",
    "x_size = (8, 8)\n",
    "kernel_size = (3, 3)\n",
    "\n",
    "X = walnut.randn((batches, in_channels, *x_size))\n",
    "W1 = walnut.randn((out_channels, in_channels, *kernel_size)) # (K, C, Y, X)\n",
    "W2 = walnut.randn((out_channels, out_channels, *kernel_size)) # (K, C, Y, X)\n",
    "B1 = walnut.randn((out_channels,))\n",
    "B2 = walnut.randn((out_channels,))\n",
    "\n",
    "t_x = torch.from_numpy(X.data).float()\n",
    "t_x.requires_grad = True\n",
    "t_w1 = torch.nn.Parameter(torch.from_numpy(W1.data).float(), requires_grad=True)\n",
    "t_w2 = torch.nn.Parameter(torch.from_numpy(W2.data).float(), requires_grad=True)\n",
    "t_b1 = torch.nn.Parameter(torch.from_numpy(B1.data).float(), requires_grad=True)\n",
    "t_b2 = torch.nn.Parameter(torch.from_numpy(B2.data).float(), requires_grad=True)"
   ]
  },
  {
   "attachments": {},
   "cell_type": "markdown",
   "metadata": {},
   "source": [
    "### Forward"
   ]
  },
  {
   "cell_type": "code",
   "execution_count": null,
   "metadata": {},
   "outputs": [],
   "source": [
    "class model(nn.Model):\n",
    "    def __init__(self):\n",
    "        super().__init__()\n",
    "        self.conv1 = nn.layers.Convolution2d(in_channels, out_channels, weights=W1)\n",
    "        self.conv1.b = B1\n",
    "        self.mp = nn.layers.MaxPooling2d()\n",
    "        self.conv2 = nn.layers.Convolution2d(out_channels, out_channels, weights=W2)\n",
    "        self.conv2.b = B2\n",
    "        \n",
    "        self.layers = [self.conv1, self.mp, self.conv2]\n",
    "\n",
    "    def __call__(self, X):\n",
    "        y = self.conv2(self.mp(self.conv1(X)))\n",
    "\n",
    "        if self.training:\n",
    "\n",
    "            def backward(dy):\n",
    "                return self.conv1.backward(self.mp.backward(self.conv2.backward(dy)))\n",
    "            self.backward = backward\n",
    "\n",
    "        return y"
   ]
  },
  {
   "cell_type": "code",
   "execution_count": null,
   "metadata": {},
   "outputs": [],
   "source": [
    "w_model = model()\n",
    "w_model.set_training(True)\n",
    "w_out = w_model(X)\n",
    "w_out[0, 1]"
   ]
  },
  {
   "cell_type": "code",
   "execution_count": null,
   "metadata": {},
   "outputs": [],
   "source": [
    "t_conv1 = torch.nn.Conv2d(in_channels, out_channels, kernel_size, bias=False)\n",
    "t_conv1.weight = t_w1\n",
    "t_conv1.bias = t_b1\n",
    "t_conv2 = torch.nn.Conv2d(out_channels, out_channels, kernel_size, bias=False)\n",
    "t_conv2.weight = t_w2\n",
    "t_conv2.bias = t_b2\n",
    "t_mp = torch.nn.MaxPool2d((2, 2))\n",
    "\n",
    "t_out = t_conv2(t_mp(t_conv1(t_x)))\n",
    "t_out[0, 1]"
   ]
  },
  {
   "cell_type": "markdown",
   "metadata": {},
   "source": [
    "### Backward"
   ]
  },
  {
   "cell_type": "code",
   "execution_count": null,
   "metadata": {},
   "outputs": [],
   "source": [
    "dy = walnut.randn(w_out.shape).data\n",
    "t_dy = torch.from_numpy(dy)\n",
    "\n",
    "x_grad = w_model.backward(dy)\n",
    "\n",
    "t_out.backward(t_dy)"
   ]
  },
  {
   "attachments": {},
   "cell_type": "markdown",
   "metadata": {},
   "source": [
    "X"
   ]
  },
  {
   "cell_type": "code",
   "execution_count": null,
   "metadata": {},
   "outputs": [],
   "source": [
    "x_grad[1, 0]"
   ]
  },
  {
   "cell_type": "code",
   "execution_count": null,
   "metadata": {},
   "outputs": [],
   "source": [
    "t_x.grad[1, 0]"
   ]
  },
  {
   "attachments": {},
   "cell_type": "markdown",
   "metadata": {},
   "source": [
    "W"
   ]
  },
  {
   "cell_type": "code",
   "execution_count": null,
   "metadata": {},
   "outputs": [],
   "source": [
    "w_model.conv1.w.grad[0, 0]"
   ]
  },
  {
   "cell_type": "code",
   "execution_count": null,
   "metadata": {},
   "outputs": [],
   "source": [
    "t_w1.grad[0, 0]"
   ]
  },
  {
   "cell_type": "code",
   "execution_count": null,
   "metadata": {},
   "outputs": [],
   "source": [
    "w_model.conv2.w.grad[0, 0]"
   ]
  },
  {
   "cell_type": "code",
   "execution_count": null,
   "metadata": {},
   "outputs": [],
   "source": [
    "t_w2.grad[0, 0]"
   ]
  },
  {
   "cell_type": "markdown",
   "metadata": {},
   "source": [
    "B"
   ]
  },
  {
   "cell_type": "code",
   "execution_count": null,
   "metadata": {},
   "outputs": [],
   "source": [
    "w_model.conv1.b.grad"
   ]
  },
  {
   "cell_type": "code",
   "execution_count": null,
   "metadata": {},
   "outputs": [],
   "source": [
    "t_b1.grad"
   ]
  },
  {
   "cell_type": "code",
   "execution_count": null,
   "metadata": {},
   "outputs": [],
   "source": [
    "w_model.conv2.b.grad"
   ]
  },
  {
   "cell_type": "code",
   "execution_count": null,
   "metadata": {},
   "outputs": [],
   "source": [
    "t_b2.grad"
   ]
  }
 ],
 "metadata": {
  "kernelspec": {
   "display_name": "Python 3",
   "language": "python",
   "name": "python3"
  },
  "language_info": {
   "codemirror_mode": {
    "name": "ipython",
    "version": 3
   },
   "file_extension": ".py",
   "mimetype": "text/x-python",
   "name": "python",
   "nbconvert_exporter": "python",
   "pygments_lexer": "ipython3",
   "version": "3.11.4"
  },
  "orig_nbformat": 4
 },
 "nbformat": 4,
 "nbformat_minor": 2
}
