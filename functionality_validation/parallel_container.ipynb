{
 "cells": [
  {
   "cell_type": "code",
   "execution_count": null,
   "metadata": {},
   "outputs": [],
   "source": [
    "import sys\n",
    "sys.path.append(\"..\") # for sibling import\n",
    "\n",
    "import torch\n",
    "import walnut\n",
    "import walnut.tensor_utils as tu\n",
    "import walnut.nn as nn"
   ]
  },
  {
   "cell_type": "code",
   "execution_count": null,
   "metadata": {},
   "outputs": [],
   "source": [
    "B, C_in, C_out = 10, 5, 1\n",
    "\n",
    "X = walnut.randn((B, C_in))\n",
    "W1 = walnut.randn((C_in, C_out))*10 # (K, C, Y, X)\n",
    "W2 = walnut.randn((C_in, C_out+1))*10 # (K, C, Y, X)\n",
    "W3 = walnut.randn((C_in, C_out+2))*10 # (K, C, Y, X)\n",
    "\n",
    "t_x = torch.from_numpy(X.data).float()\n",
    "t_x.requires_grad = True\n",
    "t_w1 = torch.nn.Parameter(torch.from_numpy(W1.T).float(), requires_grad=True)\n",
    "t_w2 = torch.nn.Parameter(torch.from_numpy(W2.T).float(), requires_grad=True)\n",
    "t_w3 = torch.nn.Parameter(torch.from_numpy(W3.T).float(), requires_grad=True)"
   ]
  },
  {
   "attachments": {},
   "cell_type": "markdown",
   "metadata": {},
   "source": [
    "### Forward"
   ]
  },
  {
   "cell_type": "code",
   "execution_count": null,
   "metadata": {},
   "outputs": [],
   "source": [
    "lin1 = nn.layers.Linear(C_in, C_out, weights=W1, use_bias=False)\n",
    "lin2 = nn.layers.Linear(C_in, C_out, weights=W2, use_bias=False)\n",
    "lin3 = nn.layers.Linear(C_in, C_out, weights=W3, use_bias=False)\n",
    "\n",
    "c = nn.containers.ParallelContainer([lin1, lin2, lin3], -1)\n",
    "c.training = True\n",
    "c.keep_output = True"
   ]
  },
  {
   "cell_type": "code",
   "execution_count": null,
   "metadata": {},
   "outputs": [],
   "source": [
    "out = c(X)\n",
    "out"
   ]
  },
  {
   "cell_type": "code",
   "execution_count": null,
   "metadata": {},
   "outputs": [],
   "source": [
    "t_lin1 = torch.nn.Linear(C_in, C_out, bias=False)\n",
    "t_lin1.weight = t_w1\n",
    "t_lin2 = torch.nn.Linear(C_in, C_out, bias=False)\n",
    "t_lin2.weight = t_w2\n",
    "t_lin3 = torch.nn.Linear(C_in, C_out, bias=False)\n",
    "t_lin3.weight = t_w3\n",
    "\n",
    "t_c = [t_lin1, t_lin2, t_lin3]\n",
    "t_out = torch.cat([h(t_x) for h in t_c], -1)\n",
    "t_out"
   ]
  },
  {
   "cell_type": "code",
   "execution_count": null,
   "metadata": {},
   "outputs": [],
   "source": [
    "for m in c.sub_modules:\n",
    "    print(m.y.shape)"
   ]
  },
  {
   "cell_type": "code",
   "execution_count": null,
   "metadata": {},
   "outputs": [],
   "source": [
    "dy = tu.randn((out.shape)).data\n",
    "t_dy = torch.from_numpy(dy).float()\n",
    "\n",
    "x_grad = c.backward(dy)\n",
    "t_out.backward(t_dy)"
   ]
  },
  {
   "cell_type": "code",
   "execution_count": null,
   "metadata": {},
   "outputs": [],
   "source": [
    "x_grad"
   ]
  },
  {
   "cell_type": "code",
   "execution_count": null,
   "metadata": {},
   "outputs": [],
   "source": [
    "t_x.grad"
   ]
  }
 ],
 "metadata": {
  "kernelspec": {
   "display_name": "Python 3",
   "language": "python",
   "name": "python3"
  },
  "language_info": {
   "codemirror_mode": {
    "name": "ipython",
    "version": 3
   },
   "file_extension": ".py",
   "mimetype": "text/x-python",
   "name": "python",
   "nbconvert_exporter": "python",
   "pygments_lexer": "ipython3",
   "version": "3.11.4"
  },
  "orig_nbformat": 4
 },
 "nbformat": 4,
 "nbformat_minor": 2
}
