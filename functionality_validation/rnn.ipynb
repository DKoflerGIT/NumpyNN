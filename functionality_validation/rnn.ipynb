{
 "cells": [
  {
   "cell_type": "code",
   "execution_count": null,
   "metadata": {},
   "outputs": [],
   "source": [
    "import torch\n",
    "import walnut\n",
    "import numpy as np"
   ]
  },
  {
   "cell_type": "code",
   "execution_count": null,
   "metadata": {},
   "outputs": [],
   "source": [
    "batches = 10\n",
    "sequence = 8\n",
    "in_channels = 3\n",
    "hidden_channels = 5\n",
    "num_layers = 2\n",
    "\n",
    "X = walnut.randn((batches, sequence, in_channels))\n",
    "\n",
    "W_in1 = walnut.randn((in_channels, hidden_channels)) * in_channels**-0.5\n",
    "B_in1 = walnut.randn((hidden_channels,))\n",
    "W_hidden1 = walnut.randn((hidden_channels, hidden_channels)) * hidden_channels**-0.5\n",
    "B_hidden1 = walnut.randn((hidden_channels,))\n",
    "\n",
    "W_in2 = walnut.randn((hidden_channels, hidden_channels)) * in_channels**-0.5\n",
    "B_in2 = walnut.randn((hidden_channels,))\n",
    "W_hidden2 = walnut.randn((hidden_channels, hidden_channels)) * hidden_channels**-0.5\n",
    "B_hidden2 = walnut.randn((hidden_channels,))\n",
    "\n",
    "t_x = torch.nn.Parameter(torch.from_numpy(X.data).float(), requires_grad=True)\n",
    "\n",
    "t_w_in1 = torch.nn.Parameter(torch.from_numpy(W_in1.T).float(), requires_grad=True)\n",
    "t_b_in1 = torch.nn.Parameter(torch.from_numpy(B_in1.data).float(), requires_grad=True)\n",
    "t_w_hidden1 = torch.nn.Parameter(torch.from_numpy(W_hidden1.T).float(), requires_grad=True)\n",
    "t_b_hidden1 = torch.nn.Parameter(torch.from_numpy(B_hidden1.data).float(), requires_grad=True)\n",
    "\n",
    "t_w_in2 = torch.nn.Parameter(torch.from_numpy(W_in2.T).float(), requires_grad=True)\n",
    "t_b_in2 = torch.nn.Parameter(torch.from_numpy(B_in2.data).float(), requires_grad=True)\n",
    "t_w_hidden2 = torch.nn.Parameter(torch.from_numpy(W_hidden2.T).float(), requires_grad=True)\n",
    "t_b_hidden2 = torch.nn.Parameter(torch.from_numpy(B_hidden2.data).float(), requires_grad=True)"
   ]
  },
  {
   "attachments": {},
   "cell_type": "markdown",
   "metadata": {},
   "source": [
    "### Forward"
   ]
  },
  {
   "cell_type": "code",
   "execution_count": null,
   "metadata": {},
   "outputs": [],
   "source": [
    "import walnut.nn as nn\n",
    "rnn = nn.RNN(in_channels, hidden_channels, num_layers=num_layers)\n",
    "rnn_t = torch.nn.RNN(in_channels, hidden_channels, batch_first = True, num_layers=num_layers)"
   ]
  },
  {
   "cell_type": "code",
   "execution_count": null,
   "metadata": {},
   "outputs": [],
   "source": [
    "rnn.training_mode()\n",
    "\n",
    "rnn.layers[0].w = W_in1\n",
    "rnn.layers[0].b = B_in1\n",
    "rnn.layers[1].w = W_hidden1\n",
    "rnn.layers[1].b = B_hidden1\n",
    "\n",
    "rnn.layers[2].w = W_in2\n",
    "rnn.layers[2].b = B_in2\n",
    "rnn.layers[3].w = W_hidden2\n",
    "rnn.layers[3].b = B_hidden2\n",
    "\n",
    "out = rnn(X)\n",
    "out[0]"
   ]
  },
  {
   "cell_type": "code",
   "execution_count": null,
   "metadata": {},
   "outputs": [],
   "source": [
    "rnn_t.weight_ih_l0 = t_w_in1\n",
    "rnn_t.bias_ih_l0 = t_b_in1\n",
    "rnn_t.weight_hh_l0 = t_w_hidden1\n",
    "rnn_t.bias_hh_l0 = t_b_hidden1\n",
    "\n",
    "rnn_t.weight_ih_l1 = t_w_in2\n",
    "rnn_t.bias_ih_l1 = t_b_in2\n",
    "rnn_t.weight_hh_l1 = t_w_hidden2\n",
    "rnn_t.bias_hh_l1 = t_b_hidden2\n",
    "\n",
    "t_out = rnn_t(t_x)[0]\n",
    "t_out[0]"
   ]
  },
  {
   "attachments": {},
   "cell_type": "markdown",
   "metadata": {},
   "source": [
    "### Backward"
   ]
  },
  {
   "cell_type": "code",
   "execution_count": null,
   "metadata": {},
   "outputs": [],
   "source": [
    "dy = walnut.ones(out.shape).data\n",
    "t_dy = torch.nn.Parameter(torch.from_numpy(dy).float())"
   ]
  },
  {
   "cell_type": "code",
   "execution_count": null,
   "metadata": {},
   "outputs": [],
   "source": [
    "rnn.reset_grads()\n",
    "x_grad = rnn.backward(dy)"
   ]
  },
  {
   "cell_type": "code",
   "execution_count": null,
   "metadata": {},
   "outputs": [],
   "source": [
    "t_out.backward(t_dy)"
   ]
  },
  {
   "attachments": {},
   "cell_type": "markdown",
   "metadata": {},
   "source": [
    "X"
   ]
  },
  {
   "cell_type": "markdown",
   "metadata": {},
   "source": [
    "Problem: cannot backward multiple times or different inputs, because backward is defined during call and therefore data of the last forward pass is used for x, y, etc."
   ]
  },
  {
   "cell_type": "code",
   "execution_count": null,
   "metadata": {},
   "outputs": [],
   "source": [
    "x_grad[0]"
   ]
  },
  {
   "cell_type": "code",
   "execution_count": null,
   "metadata": {},
   "outputs": [],
   "source": [
    "t_x.grad[0]"
   ]
  },
  {
   "cell_type": "markdown",
   "metadata": {},
   "source": [
    "W Hidden"
   ]
  },
  {
   "cell_type": "code",
   "execution_count": null,
   "metadata": {},
   "outputs": [],
   "source": [
    "rnn.layers[1].w.grad"
   ]
  },
  {
   "cell_type": "code",
   "execution_count": null,
   "metadata": {},
   "outputs": [],
   "source": [
    "rnn_t.weight_hh_l0.grad.T"
   ]
  },
  {
   "cell_type": "code",
   "execution_count": null,
   "metadata": {},
   "outputs": [],
   "source": [
    "rnn.layers[3].w.grad"
   ]
  },
  {
   "cell_type": "code",
   "execution_count": null,
   "metadata": {},
   "outputs": [],
   "source": [
    "rnn_t.weight_hh_l1.grad.T"
   ]
  },
  {
   "cell_type": "markdown",
   "metadata": {},
   "source": [
    "B Hidden"
   ]
  },
  {
   "cell_type": "code",
   "execution_count": null,
   "metadata": {},
   "outputs": [],
   "source": [
    "rnn.layers[1].b.grad"
   ]
  },
  {
   "cell_type": "code",
   "execution_count": null,
   "metadata": {},
   "outputs": [],
   "source": [
    "rnn_t.bias_hh_l0.grad"
   ]
  },
  {
   "cell_type": "code",
   "execution_count": null,
   "metadata": {},
   "outputs": [],
   "source": [
    "rnn.layers[3].b.grad"
   ]
  },
  {
   "cell_type": "code",
   "execution_count": null,
   "metadata": {},
   "outputs": [],
   "source": [
    "rnn_t.bias_hh_l1.grad"
   ]
  },
  {
   "cell_type": "markdown",
   "metadata": {},
   "source": [
    "W Input"
   ]
  },
  {
   "cell_type": "code",
   "execution_count": null,
   "metadata": {},
   "outputs": [],
   "source": [
    "rnn.layers[0].w.grad"
   ]
  },
  {
   "cell_type": "code",
   "execution_count": null,
   "metadata": {},
   "outputs": [],
   "source": [
    "rnn_t.weight_ih_l0.grad.T"
   ]
  },
  {
   "cell_type": "markdown",
   "metadata": {},
   "source": [
    "B Input"
   ]
  },
  {
   "cell_type": "code",
   "execution_count": null,
   "metadata": {},
   "outputs": [],
   "source": [
    "rnn.layers[0].b.grad"
   ]
  },
  {
   "cell_type": "code",
   "execution_count": null,
   "metadata": {},
   "outputs": [],
   "source": [
    "rnn_t.bias_ih_l0.grad"
   ]
  }
 ],
 "metadata": {
  "kernelspec": {
   "display_name": "Python 3",
   "language": "python",
   "name": "python3"
  },
  "language_info": {
   "codemirror_mode": {
    "name": "ipython",
    "version": 3
   },
   "file_extension": ".py",
   "mimetype": "text/x-python",
   "name": "python",
   "nbconvert_exporter": "python",
   "pygments_lexer": "ipython3",
   "version": "3.11.4"
  },
  "orig_nbformat": 4
 },
 "nbformat": 4,
 "nbformat_minor": 2
}
