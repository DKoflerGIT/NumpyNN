{
 "cells": [
  {
   "cell_type": "code",
   "execution_count": null,
   "metadata": {},
   "outputs": [],
   "source": [
    "import torch\n",
    "import walnut"
   ]
  },
  {
   "cell_type": "code",
   "execution_count": null,
   "metadata": {},
   "outputs": [],
   "source": [
    "X = walnut.randn((10, 3, 5, 5))\n",
    "W = walnut.ones((3,))\n",
    "B = walnut.zeros((3,))\n",
    "\n",
    "t_x = torch.nn.Parameter(torch.from_numpy(X.data).float(), requires_grad=True)\n",
    "t_w = torch.nn.Parameter(torch.from_numpy(W.data).float(), requires_grad=True)\n",
    "t_b = torch.nn.Parameter(torch.from_numpy(B.data).float(), requires_grad=True)"
   ]
  },
  {
   "attachments": {},
   "cell_type": "markdown",
   "metadata": {},
   "source": [
    "# Forward"
   ]
  },
  {
   "cell_type": "code",
   "execution_count": null,
   "metadata": {},
   "outputs": [],
   "source": [
    "import walnut.nn as nn\n",
    "\n",
    "ln = nn.modules.Batchnorm(input_shape=X.shape[1:])\n",
    "ln.compile()\n",
    "ln.training = True\n",
    "ln.w = W\n",
    "ln.b = B\n",
    "\n",
    "ln_t = torch.nn.BatchNorm2d(X.shape[1])\n",
    "ln_t.weight = t_w\n",
    "ln_t.bias = t_b"
   ]
  },
  {
   "cell_type": "code",
   "execution_count": null,
   "metadata": {},
   "outputs": [],
   "source": [
    "ln(X)[0, 0]"
   ]
  },
  {
   "cell_type": "code",
   "execution_count": null,
   "metadata": {},
   "outputs": [],
   "source": [
    "t_out = ln_t(t_x)\n",
    "t_out[0, 0]"
   ]
  },
  {
   "attachments": {},
   "cell_type": "markdown",
   "metadata": {},
   "source": [
    "# Backward"
   ]
  },
  {
   "cell_type": "code",
   "execution_count": null,
   "metadata": {},
   "outputs": [],
   "source": [
    "dy = walnut.randn(X.shape).data\n",
    "t_dy = torch.nn.Parameter(torch.from_numpy(dy).float())"
   ]
  },
  {
   "cell_type": "code",
   "execution_count": null,
   "metadata": {},
   "outputs": [],
   "source": [
    "dy = walnut.randn(X.shape).data\n",
    "t_dy = torch.from_numpy(dy)\n",
    "_ = ln.backward(dy)\n",
    "t_out.backward(t_dy)"
   ]
  },
  {
   "attachments": {},
   "cell_type": "markdown",
   "metadata": {},
   "source": [
    "### Beta"
   ]
  },
  {
   "cell_type": "code",
   "execution_count": null,
   "metadata": {},
   "outputs": [],
   "source": [
    "ln.b.data += -0.1 * ln.b.grad\n",
    "ln.b.grad"
   ]
  },
  {
   "cell_type": "code",
   "execution_count": null,
   "metadata": {},
   "outputs": [],
   "source": [
    "ln_t.bias.data += -0.1 * ln_t.bias.grad\n",
    "ln_t.bias.grad"
   ]
  },
  {
   "attachments": {},
   "cell_type": "markdown",
   "metadata": {},
   "source": [
    "### Gamma"
   ]
  },
  {
   "cell_type": "code",
   "execution_count": null,
   "metadata": {},
   "outputs": [],
   "source": [
    "ln.w.data += -0.1 * ln.w.grad\n",
    "ln.w.grad"
   ]
  },
  {
   "cell_type": "code",
   "execution_count": null,
   "metadata": {},
   "outputs": [],
   "source": [
    "ln_t.weight.data += -0.1 * ln_t.weight.grad\n",
    "ln_t.weight.grad"
   ]
  },
  {
   "attachments": {},
   "cell_type": "markdown",
   "metadata": {},
   "source": [
    "### X"
   ]
  },
  {
   "cell_type": "code",
   "execution_count": null,
   "metadata": {},
   "outputs": [],
   "source": [
    "ln.x.grad[0, 0]"
   ]
  },
  {
   "cell_type": "code",
   "execution_count": null,
   "metadata": {},
   "outputs": [],
   "source": [
    "t_x.grad[0, 0]"
   ]
  }
 ],
 "metadata": {
  "kernelspec": {
   "display_name": "Python 3",
   "language": "python",
   "name": "python3"
  },
  "language_info": {
   "codemirror_mode": {
    "name": "ipython",
    "version": 3
   },
   "file_extension": ".py",
   "mimetype": "text/x-python",
   "name": "python",
   "nbconvert_exporter": "python",
   "pygments_lexer": "ipython3",
   "version": "3.11.4"
  },
  "orig_nbformat": 4
 },
 "nbformat": 4,
 "nbformat_minor": 2
}
