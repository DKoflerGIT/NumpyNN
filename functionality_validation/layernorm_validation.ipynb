{
 "cells": [
  {
   "cell_type": "code",
   "execution_count": 4,
   "metadata": {},
   "outputs": [],
   "source": [
    "import torch\n",
    "import walnut"
   ]
  },
  {
   "cell_type": "code",
   "execution_count": 5,
   "metadata": {},
   "outputs": [],
   "source": [
    "X = walnut.randn((10, 3, 3))\n",
    "W = walnut.ones((3, 3))\n",
    "B = walnut.zeros((3, 3))\n",
    "\n",
    "eps = 1e-7\n",
    "\n",
    "t_x = torch.nn.Parameter(torch.from_numpy(X.data).float(), requires_grad=True)\n",
    "t_w = torch.nn.Parameter(torch.from_numpy(W.data).float(), requires_grad=True)\n",
    "t_b = torch.nn.Parameter(torch.from_numpy(B.data).float(), requires_grad=True)"
   ]
  },
  {
   "attachments": {},
   "cell_type": "markdown",
   "metadata": {},
   "source": [
    "# Forward\n",
    "### NumpyNN"
   ]
  },
  {
   "cell_type": "code",
   "execution_count": 6,
   "metadata": {},
   "outputs": [
    {
     "data": {
      "text/plain": [
       "tnsor([[-0.9451,  0.2960, -0.3816],\n",
       "       [ 0.4564,  0.3498, -1.5783],\n",
       "       [-0.7530,  0.4972,  2.0586]], dtype=float32)"
      ]
     },
     "execution_count": 6,
     "metadata": {},
     "output_type": "execute_result"
    }
   ],
   "source": [
    "import walnut.nn as nn\n",
    "\n",
    "ln = nn.modules.Layernorm(input_shape=X.shape[1:], eps=eps)\n",
    "ln.compile()\n",
    "ln.w = W\n",
    "ln.b = B\n",
    "ln(X)[0]"
   ]
  },
  {
   "attachments": {},
   "cell_type": "markdown",
   "metadata": {},
   "source": [
    "### Torch"
   ]
  },
  {
   "cell_type": "code",
   "execution_count": 7,
   "metadata": {},
   "outputs": [
    {
     "data": {
      "text/plain": [
       "tensor([[-0.9451,  0.2960, -0.3816],\n",
       "        [ 0.4564,  0.3498, -1.5783],\n",
       "        [-0.7530,  0.4972,  2.0586]], grad_fn=<SelectBackward0>)"
      ]
     },
     "execution_count": 7,
     "metadata": {},
     "output_type": "execute_result"
    }
   ],
   "source": [
    "ln_t = torch.nn.LayerNorm(X.shape[-2:], eps=eps)\n",
    "ln_t.weight = t_w\n",
    "ln_t.bias = t_b\n",
    "t_out = ln_t(t_x)\n",
    "t_out[0]"
   ]
  },
  {
   "attachments": {},
   "cell_type": "markdown",
   "metadata": {},
   "source": [
    "# Backward"
   ]
  },
  {
   "cell_type": "code",
   "execution_count": 8,
   "metadata": {},
   "outputs": [],
   "source": [
    "dy = walnut.randn(X.shape).data\n",
    "t_dy = torch.nn.Parameter(torch.from_numpy(dy).float())"
   ]
  },
  {
   "cell_type": "code",
   "execution_count": 9,
   "metadata": {},
   "outputs": [],
   "source": [
    "dy = walnut.randn(X.shape).data\n",
    "t_dy = torch.from_numpy(dy)\n",
    "_ = ln.backward(dy)\n",
    "t_out.backward(t_dy)"
   ]
  },
  {
   "attachments": {},
   "cell_type": "markdown",
   "metadata": {},
   "source": [
    "### Beta"
   ]
  },
  {
   "cell_type": "code",
   "execution_count": 10,
   "metadata": {},
   "outputs": [
    {
     "data": {
      "text/plain": [
       "array([[-0.9337,  4.9937,  1.6646],\n",
       "       [ 2.8507,  1.4694,  0.8327],\n",
       "       [-1.6684,  1.3044, -1.5483]], dtype=float32)"
      ]
     },
     "execution_count": 10,
     "metadata": {},
     "output_type": "execute_result"
    }
   ],
   "source": [
    "ln.b.grad"
   ]
  },
  {
   "cell_type": "code",
   "execution_count": 11,
   "metadata": {},
   "outputs": [
    {
     "data": {
      "text/plain": [
       "tensor([[-0.9337,  4.9937,  1.6646],\n",
       "        [ 2.8507,  1.4694,  0.8327],\n",
       "        [-1.6684,  1.3044, -1.5483]])"
      ]
     },
     "execution_count": 11,
     "metadata": {},
     "output_type": "execute_result"
    }
   ],
   "source": [
    "ln_t.bias.grad"
   ]
  },
  {
   "attachments": {},
   "cell_type": "markdown",
   "metadata": {},
   "source": [
    "### Gamma"
   ]
  },
  {
   "cell_type": "code",
   "execution_count": 12,
   "metadata": {},
   "outputs": [
    {
     "data": {
      "text/plain": [
       "array([[ 2.6746,  6.6361, -1.2104],\n",
       "       [-1.0429, -1.1509, -3.7503],\n",
       "       [ 4.4661,  7.3159, -2.4227]], dtype=float32)"
      ]
     },
     "execution_count": 12,
     "metadata": {},
     "output_type": "execute_result"
    }
   ],
   "source": [
    "ln.w.grad"
   ]
  },
  {
   "cell_type": "code",
   "execution_count": 13,
   "metadata": {},
   "outputs": [
    {
     "data": {
      "text/plain": [
       "tensor([[ 2.6746,  6.6361, -1.2104],\n",
       "        [-1.0429, -1.1509, -3.7503],\n",
       "        [ 4.4661,  7.3159, -2.4227]])"
      ]
     },
     "execution_count": 13,
     "metadata": {},
     "output_type": "execute_result"
    }
   ],
   "source": [
    "ln_t.weight.grad"
   ]
  },
  {
   "attachments": {},
   "cell_type": "markdown",
   "metadata": {},
   "source": [
    "### X"
   ]
  },
  {
   "cell_type": "code",
   "execution_count": 14,
   "metadata": {},
   "outputs": [
    {
     "data": {
      "text/plain": [
       "array([[-1.1761,  0.6990, -1.1435],\n",
       "       [ 1.0920,  0.0342,  1.3114],\n",
       "       [-0.5299,  0.0021, -0.2892]], dtype=float32)"
      ]
     },
     "execution_count": 14,
     "metadata": {},
     "output_type": "execute_result"
    }
   ],
   "source": [
    "ln.x.grad[0]"
   ]
  },
  {
   "cell_type": "code",
   "execution_count": 15,
   "metadata": {},
   "outputs": [
    {
     "data": {
      "text/plain": [
       "tensor([[-1.1761,  0.6990, -1.1435],\n",
       "        [ 1.0920,  0.0342,  1.3114],\n",
       "        [-0.5299,  0.0021, -0.2892]])"
      ]
     },
     "execution_count": 15,
     "metadata": {},
     "output_type": "execute_result"
    }
   ],
   "source": [
    "t_x.grad[0]"
   ]
  }
 ],
 "metadata": {
  "kernelspec": {
   "display_name": "Python 3",
   "language": "python",
   "name": "python3"
  },
  "language_info": {
   "codemirror_mode": {
    "name": "ipython",
    "version": 3
   },
   "file_extension": ".py",
   "mimetype": "text/x-python",
   "name": "python",
   "nbconvert_exporter": "python",
   "pygments_lexer": "ipython3",
   "version": "3.11.4"
  },
  "orig_nbformat": 4
 },
 "nbformat": 4,
 "nbformat_minor": 2
}
