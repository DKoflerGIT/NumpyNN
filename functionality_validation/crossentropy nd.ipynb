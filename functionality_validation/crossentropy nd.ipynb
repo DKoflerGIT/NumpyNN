{
 "cells": [
  {
   "cell_type": "code",
   "execution_count": null,
   "metadata": {},
   "outputs": [],
   "source": [
    "import walnut\n",
    "import walnut.tensor_utils as tu\n",
    "import walnut.nn.funcional as wF\n",
    "import torch\n",
    "import torch.nn.functional as F\n",
    "import numpy as np"
   ]
  },
  {
   "cell_type": "code",
   "execution_count": null,
   "metadata": {},
   "outputs": [],
   "source": [
    "B, T, C = 10, 3, 2\n",
    "\n",
    "logits = tu.randn((B, T, C))\n",
    "targets = tu.randint((B, T), 0, logits.shape[-1])\n",
    "\n",
    "t_logits = torch.from_numpy(np.moveaxis(logits.data, -1, -2))\n",
    "t_logits.requires_grad = True\n",
    "t_targets = torch.from_numpy(targets.data).long()"
   ]
  },
  {
   "cell_type": "code",
   "execution_count": null,
   "metadata": {},
   "outputs": [],
   "source": [
    "ce = walnut.nn.losses.Crossentropy()\n",
    "ce(logits, targets) # torch crossentropy has softmax built in, walnut needs a softmax input, torch needs un-softmaxed input"
   ]
  },
  {
   "cell_type": "code",
   "execution_count": null,
   "metadata": {},
   "outputs": [],
   "source": [
    "l = F.cross_entropy(t_logits, t_targets)\n",
    "l"
   ]
  },
  {
   "cell_type": "code",
   "execution_count": null,
   "metadata": {},
   "outputs": [],
   "source": [
    "ce.backward()[0]"
   ]
  },
  {
   "cell_type": "code",
   "execution_count": null,
   "metadata": {},
   "outputs": [],
   "source": [
    "l.backward()\n",
    "t_logits.grad.moveaxis(-1, -2)[0]"
   ]
  }
 ],
 "metadata": {
  "kernelspec": {
   "display_name": "Python 3",
   "language": "python",
   "name": "python3"
  },
  "language_info": {
   "codemirror_mode": {
    "name": "ipython",
    "version": 3
   },
   "file_extension": ".py",
   "mimetype": "text/x-python",
   "name": "python",
   "nbconvert_exporter": "python",
   "pygments_lexer": "ipython3",
   "version": "3.11.4"
  },
  "orig_nbformat": 4
 },
 "nbformat": 4,
 "nbformat_minor": 2
}
