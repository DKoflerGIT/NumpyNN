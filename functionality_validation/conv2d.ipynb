{
 "cells": [
  {
   "cell_type": "code",
   "execution_count": null,
   "metadata": {},
   "outputs": [],
   "source": [
    "import torch\n",
    "import walnut\n",
    "import walnut.nn as nn"
   ]
  },
  {
   "cell_type": "code",
   "execution_count": null,
   "metadata": {},
   "outputs": [],
   "source": [
    "batches = 5\n",
    "in_channels = 1\n",
    "out_channels = 8\n",
    "x_size = (8, 8)\n",
    "kernel_size = (3, 3)\n",
    "\n",
    "X = walnut.randn((batches, in_channels, *x_size))\n",
    "W = walnut.randn((out_channels, in_channels, *kernel_size)) # (K, C, Y, X)\n",
    "B = walnut.randn((out_channels,))\n",
    "\n",
    "t_x = torch.from_numpy(X.data).float()\n",
    "t_x.requires_grad = True\n",
    "t_w = torch.nn.Parameter(torch.from_numpy(W.data).float(), requires_grad=True)\n",
    "t_b = torch.nn.Parameter(torch.from_numpy(B.data).float(), requires_grad=True)"
   ]
  },
  {
   "attachments": {},
   "cell_type": "markdown",
   "metadata": {},
   "source": [
    "### Forward"
   ]
  },
  {
   "cell_type": "code",
   "execution_count": null,
   "metadata": {},
   "outputs": [],
   "source": [
    "strides = 1\n",
    "dilation = 1\n",
    "pad = \"valid\""
   ]
  },
  {
   "cell_type": "code",
   "execution_count": null,
   "metadata": {},
   "outputs": [],
   "source": [
    "w_conv = nn.layers.Convolution2d(in_channels, out_channels, stride=strides, dil=dilation, pad=pad)\n",
    "w_conv.training = True\n",
    "w_conv.w = W\n",
    "w_conv.b = B\n",
    "w_out = w_conv(X)\n",
    "w_out[0, 1]"
   ]
  },
  {
   "cell_type": "code",
   "execution_count": null,
   "metadata": {},
   "outputs": [],
   "source": [
    "t_conv = torch.nn.Conv2d(in_channels, out_channels, kernel_size, bias=False, stride=strides, dilation=dilation, padding=pad)\n",
    "t_conv.weight = t_w\n",
    "t_conv.bias = t_b\n",
    "t_out = t_conv(t_x)\n",
    "t_out[0, 1]"
   ]
  },
  {
   "cell_type": "markdown",
   "metadata": {},
   "source": [
    "### Backward"
   ]
  },
  {
   "cell_type": "code",
   "execution_count": null,
   "metadata": {},
   "outputs": [],
   "source": [
    "dy = walnut.randn(w_conv.y.shape)\n",
    "t_dy = torch.from_numpy(dy.data)\n",
    "x_grad = w_conv.backward(dy.data)\n",
    "t_out.backward(t_dy)"
   ]
  },
  {
   "attachments": {},
   "cell_type": "markdown",
   "metadata": {},
   "source": [
    "X"
   ]
  },
  {
   "cell_type": "code",
   "execution_count": null,
   "metadata": {},
   "outputs": [],
   "source": [
    "x_grad[1, 0]"
   ]
  },
  {
   "cell_type": "code",
   "execution_count": null,
   "metadata": {},
   "outputs": [],
   "source": [
    "t_x.grad[1, 0]"
   ]
  },
  {
   "attachments": {},
   "cell_type": "markdown",
   "metadata": {},
   "source": [
    "W"
   ]
  },
  {
   "cell_type": "code",
   "execution_count": null,
   "metadata": {},
   "outputs": [],
   "source": [
    "w_conv.w.grad[0, 0]"
   ]
  },
  {
   "cell_type": "code",
   "execution_count": null,
   "metadata": {},
   "outputs": [],
   "source": [
    "t_w.grad[0, 0]"
   ]
  },
  {
   "cell_type": "markdown",
   "metadata": {},
   "source": [
    "B"
   ]
  },
  {
   "cell_type": "code",
   "execution_count": null,
   "metadata": {},
   "outputs": [],
   "source": [
    "w_conv.b.grad"
   ]
  },
  {
   "cell_type": "code",
   "execution_count": null,
   "metadata": {},
   "outputs": [],
   "source": [
    "t_b.grad"
   ]
  }
 ],
 "metadata": {
  "kernelspec": {
   "display_name": "Python 3",
   "language": "python",
   "name": "python3"
  },
  "language_info": {
   "codemirror_mode": {
    "name": "ipython",
    "version": 3
   },
   "file_extension": ".py",
   "mimetype": "text/x-python",
   "name": "python",
   "nbconvert_exporter": "python",
   "pygments_lexer": "ipython3",
   "version": "3.11.4"
  },
  "orig_nbformat": 4
 },
 "nbformat": 4,
 "nbformat_minor": 2
}
