{
 "cells": [
  {
   "cell_type": "code",
   "execution_count": null,
   "metadata": {},
   "outputs": [],
   "source": [
    "import numpy as np\n",
    "from numpynn import paddings\n",
    "from numpy.lib.stride_tricks import sliding_window_view"
   ]
  },
  {
   "cell_type": "code",
   "execution_count": null,
   "metadata": {},
   "outputs": [],
   "source": [
    "a2 = np.random.randint(0, 10, (6, 6))\n",
    "a4 = np.random.randint(0, 10, (20, 2 , 6, 6))"
   ]
  },
  {
   "cell_type": "code",
   "execution_count": null,
   "metadata": {},
   "outputs": [],
   "source": [
    "window_size = (2, 2)"
   ]
  },
  {
   "attachments": {},
   "cell_type": "markdown",
   "metadata": {},
   "source": [
    "# Padding"
   ]
  },
  {
   "cell_type": "code",
   "execution_count": null,
   "metadata": {},
   "outputs": [],
   "source": [
    "# Padding\n",
    "window_y, window_x = window_size"
   ]
  },
  {
   "cell_type": "code",
   "execution_count": null,
   "metadata": {},
   "outputs": [],
   "source": [
    "# 2D\n",
    "a2_y, a2_x = a2.shape\n",
    "a2_dy = (window_y - a2_y % window_y) % window_y\n",
    "a2_dx = (window_x - a2_x % window_x) % window_x\n",
    "\n",
    "a2_pad = np.pad(a2, ((0, a2_dy), (0, a2_dx)))\n",
    "a2_pad.shape"
   ]
  },
  {
   "cell_type": "code",
   "execution_count": null,
   "metadata": {},
   "outputs": [],
   "source": [
    "# 4D\n",
    "a4_y, a4_x = a4.shape[2:]\n",
    "a4_dy = (window_y - a4_y % window_y) % window_y\n",
    "a4_dx = (window_x - a4_x % window_x) % window_x\n",
    "\n",
    "a4_pad = np.pad(a4, ((0, 0), (0, 0), (0, a4_dy), (0, a4_dx))) # pad along axis 1 & 2\n",
    "a4_pad.shape"
   ]
  },
  {
   "attachments": {},
   "cell_type": "markdown",
   "metadata": {},
   "source": [
    "# Windows"
   ]
  },
  {
   "cell_type": "code",
   "execution_count": null,
   "metadata": {},
   "outputs": [],
   "source": [
    "# 2D\n",
    "a2_windows = sliding_window_view(a2, window_shape=window_size)[::window_y, ::window_x]\n",
    "print(a2_windows.shape)"
   ]
  },
  {
   "cell_type": "code",
   "execution_count": null,
   "metadata": {},
   "outputs": [],
   "source": [
    "a2_pad"
   ]
  },
  {
   "cell_type": "code",
   "execution_count": null,
   "metadata": {},
   "outputs": [],
   "source": [
    "a2_windows[0, 0]"
   ]
  },
  {
   "cell_type": "code",
   "execution_count": null,
   "metadata": {},
   "outputs": [],
   "source": [
    "# 4D\n",
    "a4_windows = sliding_window_view(a4, window_shape=window_size, axis=(-1, -2))[:, :, ::window_y, ::window_x]\n",
    "print(a4_windows.shape)"
   ]
  },
  {
   "attachments": {},
   "cell_type": "markdown",
   "metadata": {},
   "source": [
    "# Forward pass"
   ]
  },
  {
   "cell_type": "code",
   "execution_count": null,
   "metadata": {},
   "outputs": [],
   "source": [
    "a2_maxpool = np.max(a2_windows, axis=(-2, -1))\n",
    "a2_maxpool"
   ]
  },
  {
   "cell_type": "code",
   "execution_count": null,
   "metadata": {},
   "outputs": [],
   "source": [
    "a4_maxpool = np.max(a4_windows, axis=(-2, -1))\n",
    "a4_maxpool.shape"
   ]
  },
  {
   "attachments": {},
   "cell_type": "markdown",
   "metadata": {},
   "source": [
    "Pooling Map"
   ]
  },
  {
   "cell_type": "code",
   "execution_count": null,
   "metadata": {},
   "outputs": [],
   "source": [
    "a2_windows_flat = a2_windows.reshape((*a2_windows.shape[:-2], -1))\n",
    "index = np.argmax(a2_windows_flat, axis=-1)\n",
    "f = index.flatten()\n",
    "encoded_array = np.zeros((f.size, f.max() + 1), dtype=int)\n",
    "encoded_array[np.arange(f.size), f] = 1 \n",
    "index_windows = encoded_array.reshape((3, 3, 2, 2))"
   ]
  },
  {
   "cell_type": "code",
   "execution_count": null,
   "metadata": {},
   "outputs": [],
   "source": [
    "y, x = 0, 0"
   ]
  },
  {
   "cell_type": "code",
   "execution_count": null,
   "metadata": {},
   "outputs": [],
   "source": [
    "a2_windows[y, x]"
   ]
  },
  {
   "cell_type": "code",
   "execution_count": null,
   "metadata": {},
   "outputs": [],
   "source": [
    "index_windows[y, x]"
   ]
  },
  {
   "cell_type": "code",
   "execution_count": null,
   "metadata": {},
   "outputs": [],
   "source": [
    "index_windows.reshape()"
   ]
  }
 ],
 "metadata": {
  "kernelspec": {
   "display_name": "Python 3",
   "language": "python",
   "name": "python3"
  },
  "language_info": {
   "codemirror_mode": {
    "name": "ipython",
    "version": 3
   },
   "file_extension": ".py",
   "mimetype": "text/x-python",
   "name": "python",
   "nbconvert_exporter": "python",
   "pygments_lexer": "ipython3",
   "version": "3.10.1"
  },
  "orig_nbformat": 4
 },
 "nbformat": 4,
 "nbformat_minor": 2
}
