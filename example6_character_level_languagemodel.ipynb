{
 "cells": [
  {
   "cell_type": "code",
   "execution_count": null,
   "metadata": {},
   "outputs": [],
   "source": [
    "import walnut"
   ]
  },
  {
   "cell_type": "markdown",
   "metadata": {},
   "source": [
    "# Example 6\n",
    "\n",
    "### Character level language model\n",
    "\n",
    "The goal of this model is to be able to generate text that is similar to the training data.\n",
    "\n",
    "### Step 1: Prepare data\n",
    "You will need to download the dataset from https://raw.githubusercontent.com/karpathy/char-rnn/master/data/tinyshakespeare/input.txt and place it into the *data* directory."
   ]
  },
  {
   "cell_type": "code",
   "execution_count": null,
   "metadata": {},
   "outputs": [],
   "source": [
    "with open(\"data/tinyshakespeare.txt\", \"r\") as f:\n",
    "    data = f.read()"
   ]
  },
  {
   "cell_type": "markdown",
   "metadata": {},
   "source": [
    "To build a vocabulary of tokens, the `CharacterTokenizer` is used. In this step the `fit()` extracts tokens from the previously imported data. Here, a token is represented by a single a character."
   ]
  },
  {
   "cell_type": "code",
   "execution_count": null,
   "metadata": {},
   "outputs": [],
   "source": [
    "from walnut.preprocessing.text import CharacterTokenizer\n",
    "\n",
    "tknzr = CharacterTokenizer()\n",
    "tknzr.fit(data)\n",
    "tknzr.vocab_size"
   ]
  },
  {
   "cell_type": "markdown",
   "metadata": {},
   "source": [
    "Encode the data"
   ]
  },
  {
   "cell_type": "code",
   "execution_count": null,
   "metadata": {},
   "outputs": [],
   "source": [
    "data_enc = tknzr.encode(data)\n",
    "data_enc[:100]"
   ]
  },
  {
   "cell_type": "markdown",
   "metadata": {},
   "source": [
    "Next up, we need to build the training dataset. `num_samples` represents the number of inputs for the neural network. `block_size` defines, how many characters are considered when trying to predict the following one."
   ]
  },
  {
   "cell_type": "code",
   "execution_count": null,
   "metadata": {},
   "outputs": [],
   "source": [
    "num_samples = 100000\n",
    "block_size = 8"
   ]
  },
  {
   "cell_type": "markdown",
   "metadata": {},
   "source": [
    "To use the dataset for training, the following steps must be performed:\n",
    "- choose random samples from the data by randomly selecting a sequence of 8 characters for training and the 9th character as the target\n",
    "- one-hot-encode tokens"
   ]
  },
  {
   "cell_type": "code",
   "execution_count": null,
   "metadata": {},
   "outputs": [],
   "source": [
    "import numpy as np\n",
    "from walnut.preprocessing.encoding import one_hot_encode\n",
    "\n",
    "# initialize tensors with zeros\n",
    "X = walnut.zeros((num_samples, block_size, tknzr.vocab_size))\n",
    "Y = walnut.zeros((num_samples, tknzr.vocab_size))\n",
    "\n",
    "#randomly choose indices of blocks in the original data\n",
    "rand_indices = np.random.randint(0, len(data) - block_size, (num_samples,))\n",
    "\n",
    "for i, index in enumerate(rand_indices):\n",
    "    # get characters and the label from the data\n",
    "    context = data_enc[index : index + block_size]\n",
    "    label = walnut.match_dims(data_enc[index + block_size], 1)\n",
    "\n",
    "    # one-hot-encode indices and add to the tensors\n",
    "    X[i] = one_hot_encode(context, tknzr.vocab_size).data\n",
    "    Y[i] = one_hot_encode(label, tknzr.vocab_size).data"
   ]
  },
  {
   "cell_type": "markdown",
   "metadata": {},
   "source": [
    "Train/val/test split"
   ]
  },
  {
   "cell_type": "code",
   "execution_count": null,
   "metadata": {},
   "outputs": [],
   "source": [
    "x_train = X\n",
    "y_train = Y\n",
    "\n",
    "print(f\"{x_train.shape=}\")\n",
    "print(f\"{y_train.shape=}\")"
   ]
  },
  {
   "cell_type": "markdown",
   "metadata": {},
   "source": [
    "### Step 2: Build the neural network structure\n",
    "\n",
    "As our first layer, an `Embedding` is used. It assigns each token a n-dimensional vector. The vector's components are learned and updated during the training process."
   ]
  },
  {
   "cell_type": "code",
   "execution_count": null,
   "metadata": {},
   "outputs": [],
   "source": [
    "import walnut.nn as nn\n",
    "from walnut.nn.layers import *\n",
    "from walnut.nn.inits import kaiming_normal, get_gain\n",
    "\n",
    "vocab_size = tknzr.vocab_size\n",
    "embed_dims = 10\n",
    "n_hidden = 256\n",
    "\n",
    "gain = get_gain(\"tanh\")\n",
    "wl1 = kaiming_normal((block_size*embed_dims, n_hidden), gain)\n",
    "wl2 = kaiming_normal((n_hidden, n_hidden), gain)\n",
    "wl3 = kaiming_normal((n_hidden, n_hidden), gain)\n",
    "wl4 = kaiming_normal((n_hidden, n_hidden), gain)\n",
    "wl5 = kaiming_normal((n_hidden, n_hidden), gain)\n",
    "\n",
    "\n",
    "model = nn.Sequential([\n",
    "    Embedding(vocab_size, embed_dims), Layernorm((block_size, embed_dims)),\n",
    "    Reshape(),\n",
    "    Linear(block_size*embed_dims, n_hidden, use_bias=False, weights=wl1), Layernorm((n_hidden,)), Tanh(),\n",
    "    Linear(n_hidden, n_hidden, use_bias=False, weights=wl2), Layernorm((n_hidden,)), Tanh(),\n",
    "    Linear(n_hidden, n_hidden, use_bias=False, weights=wl3), Layernorm((n_hidden,)), Tanh(),\n",
    "    Linear(n_hidden, n_hidden, use_bias=False, weights=wl4), Layernorm((n_hidden,)), Tanh(),\n",
    "    Linear(n_hidden, n_hidden, use_bias=False, weights=wl5), Layernorm((n_hidden,)), Tanh(),\n",
    "    Linear(n_hidden, vocab_size), Softmax()\n",
    "])"
   ]
  },
  {
   "cell_type": "code",
   "execution_count": null,
   "metadata": {},
   "outputs": [],
   "source": [
    "model.compile(\n",
    "    nn.optimizers.Adam(l_r=4e-3),\n",
    "    nn.losses.Crossentropy(),\n",
    "    nn.metrics.Accuracy()\n",
    ")"
   ]
  },
  {
   "cell_type": "code",
   "execution_count": null,
   "metadata": {},
   "outputs": [],
   "source": [
    "model"
   ]
  },
  {
   "cell_type": "markdown",
   "metadata": {},
   "source": [
    "### Step 3: Train the model\n",
    "\n",
    "Since there are usually quite a large number of classes (=tokens) in language models, the training process is slower."
   ]
  },
  {
   "cell_type": "code",
   "execution_count": null,
   "metadata": {},
   "outputs": [],
   "source": [
    "epochs = 20000\n",
    "batch_size = 64\n",
    "\n",
    "train_loss_hist, val_loss_hist = model.train(x_train, y_train, epochs=epochs, batch_size=batch_size)"
   ]
  },
  {
   "cell_type": "markdown",
   "metadata": {},
   "source": [
    "### Step 4: Evaluate the model"
   ]
  },
  {
   "cell_type": "code",
   "execution_count": null,
   "metadata": {},
   "outputs": [],
   "source": [
    "loss, accuracy = model.evaluate(x_test, y_test)\n",
    "print(f'loss {loss:.4f}')\n",
    "print(f'accuracy {100*accuracy:.2f}')\n",
    "\n",
    "# 49.00 (20000e, b8, n64, 10d"
   ]
  },
  {
   "cell_type": "markdown",
   "metadata": {},
   "source": [
    "### Step 5: Generate text\n",
    "To see the model in action, it is given a starting sequence. Then it is used to generate $n$ characters using previous charactes as input. The better the model is trained, the more sensical the output will be. This can take quite a lot of training though."
   ]
  },
  {
   "cell_type": "code",
   "execution_count": null,
   "metadata": {},
   "outputs": [],
   "source": [
    "context = walnut.ones((block_size,)).astype(\"int\") # use ones as startig context\n",
    "\n",
    "for _ in range(1000):\n",
    "    context_enc = one_hot_encode(context, tknzr.vocab_size) # encode tokens\n",
    "    context_enc = walnut.expand_dims(context_enc, 0) # create fake batch dim\n",
    "\n",
    "    pred = model(context_enc) # get model prediction for a character\n",
    "    index = walnut.choice(pred) # choose a character from prediction\n",
    "    print(tknzr.decode(walnut.expand_dims(index, 0)), end=\"\")\n",
    "\n",
    "    context = context.append(index, axis=0).astype(\"int\") # append predicted character\n",
    "    context = context[1:] # set new context"
   ]
  }
 ],
 "metadata": {
  "kernelspec": {
   "display_name": "Python 3",
   "language": "python",
   "name": "python3"
  },
  "language_info": {
   "codemirror_mode": {
    "name": "ipython",
    "version": 3
   },
   "file_extension": ".py",
   "mimetype": "text/x-python",
   "name": "python",
   "nbconvert_exporter": "python",
   "pygments_lexer": "ipython3",
   "version": "3.11.4"
  },
  "orig_nbformat": 4
 },
 "nbformat": 4,
 "nbformat_minor": 2
}
