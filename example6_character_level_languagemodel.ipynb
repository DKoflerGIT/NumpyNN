{
 "cells": [
  {
   "cell_type": "code",
   "execution_count": null,
   "metadata": {},
   "outputs": [],
   "source": [
    "import walnut"
   ]
  },
  {
   "cell_type": "markdown",
   "metadata": {},
   "source": [
    "# Example 6\n",
    "\n",
    "### Character level language model\n",
    "\n",
    "The goal of this model is to be able to generate text that is similar to the training data.\n",
    "\n",
    "### Step 1: Prepare data\n",
    "You will need to download the dataset from https://raw.githubusercontent.com/karpathy/char-rnn/master/data/tinyshakespeare/input.txt and place it into the *data* directory."
   ]
  },
  {
   "cell_type": "code",
   "execution_count": null,
   "metadata": {},
   "outputs": [],
   "source": [
    "with open(\"data/tinyshakespeare.txt\", \"r\") as f:\n",
    "    data = f.read().lower()"
   ]
  },
  {
   "cell_type": "markdown",
   "metadata": {},
   "source": [
    "To build a vocabulary of tokens, the `CharacterTokenizer` is used. In this step the `fit()` extracts tokens from the previously imported data. Here, a token is represented by a single a character."
   ]
  },
  {
   "cell_type": "code",
   "execution_count": null,
   "metadata": {},
   "outputs": [],
   "source": [
    "from walnut.preprocessing.text import CharacterTokenizer\n",
    "\n",
    "tknzr = CharacterTokenizer()\n",
    "tknzr.fit(data)\n",
    "tknzr.vocab_size"
   ]
  },
  {
   "cell_type": "markdown",
   "metadata": {},
   "source": [
    "Encode the data"
   ]
  },
  {
   "cell_type": "code",
   "execution_count": null,
   "metadata": {},
   "outputs": [],
   "source": [
    "data_enc = tknzr.encode(data)\n",
    "data_enc[:100]"
   ]
  },
  {
   "cell_type": "markdown",
   "metadata": {},
   "source": [
    "Next up, we need to build the training dataset. `num_samples` represents the number of inputs for the neural network. `block_size` defines, how many characters are considered when trying to predict the following one."
   ]
  },
  {
   "cell_type": "code",
   "execution_count": null,
   "metadata": {},
   "outputs": [],
   "source": [
    "num_samples = 100000\n",
    "block_size = 8"
   ]
  },
  {
   "cell_type": "markdown",
   "metadata": {},
   "source": [
    "To use the dataset for training, the following steps must be performed:\n",
    "- choose random samples from the data by randomly selecting a sequence of 8 characters for training and the 9th character as the target\n",
    "- one-hot-encode tokens"
   ]
  },
  {
   "cell_type": "code",
   "execution_count": null,
   "metadata": {},
   "outputs": [],
   "source": [
    "import numpy as np\n",
    "from walnut.preprocessing.encoding import one_hot_encode\n",
    "\n",
    "# initialize tensors with zeros\n",
    "X = walnut.zeros((num_samples, block_size, tknzr.vocab_size))\n",
    "Y = walnut.zeros((num_samples, tknzr.vocab_size))\n",
    "\n",
    "#randomly choose indices of blocks in the original data\n",
    "rand_indices = np.random.randint(0, len(data) - block_size, (num_samples,))\n",
    "\n",
    "for i, index in enumerate(rand_indices):\n",
    "    # get characters and the label from the data\n",
    "    context = data_enc[index : index + block_size]\n",
    "    label = walnut.match_dims(data_enc[index + block_size], 1)\n",
    "\n",
    "    # one-hot-encode indices and add to the tensors\n",
    "    X[i] = one_hot_encode(context, tknzr.vocab_size).data\n",
    "    Y[i] = one_hot_encode(label, tknzr.vocab_size).data"
   ]
  },
  {
   "cell_type": "markdown",
   "metadata": {},
   "source": [
    "Train/val/test split"
   ]
  },
  {
   "cell_type": "code",
   "execution_count": null,
   "metadata": {},
   "outputs": [],
   "source": [
    "n1 = int(num_samples * 0.98)\n",
    "n2 = int(n1 + num_samples * 0.01)\n",
    "\n",
    "x_train = X[:n1]\n",
    "y_train = Y[:n1]\n",
    "x_val = X[n1:n2]\n",
    "y_val = Y[n1:n2]\n",
    "x_test = X[n2:]\n",
    "y_test = Y[n2:]\n",
    "\n",
    "print(f\"{x_train.shape=}\")\n",
    "print(f\"{y_train.shape=}\")\n",
    "print(f\"{x_val.shape=}\")\n",
    "print(f\"{y_val.shape=}\")\n",
    "print(f\"{x_test.shape=}\")\n",
    "print(f\"{y_test.shape=}\")"
   ]
  },
  {
   "cell_type": "markdown",
   "metadata": {},
   "source": [
    "### Step 2: Build the neural network structure\n",
    "\n",
    "As our first layer, an `Embedding` is used. It assigns each token a n-dimensional vector. The vector's components are learned and updated during the training process."
   ]
  },
  {
   "cell_type": "code",
   "execution_count": null,
   "metadata": {},
   "outputs": [],
   "source": [
    "import walnut.nn as nn\n",
    "embed_dims = 10\n",
    "n_hidden = 100\n",
    "\n",
    "model = nn.Sequential(layers=[\n",
    "    nn.layers.Embedding(embed_dims, input_shape=(block_size, tknzr.vocab_size), init=\"kaiming_normal\"),\n",
    "    nn.layers.Reshape(),\n",
    "    nn.layers.Linear(n_hidden, act=\"tanh\", norm=\"layer\", init=\"kaiming_normal\", use_bias=False),\n",
    "    nn.layers.Linear(n_hidden, act=\"tanh\", norm=\"layer\", init=\"kaiming_normal\", use_bias=False),\n",
    "    nn.layers.Linear(n_hidden, act=\"tanh\", norm=\"layer\", init=\"kaiming_normal\", use_bias=False),\n",
    "    nn.layers.Linear(n_hidden, act=\"tanh\", norm=\"layer\", init=\"kaiming_normal\", use_bias=False),\n",
    "    nn.layers.Linear(n_hidden, act=\"tanh\", norm=\"layer\", init=\"kaiming_normal\", use_bias=False),\n",
    "    nn.layers.Linear(tknzr.vocab_size, act=\"softmax\")\n",
    "])"
   ]
  },
  {
   "cell_type": "code",
   "execution_count": null,
   "metadata": {},
   "outputs": [],
   "source": [
    "model.compile(\n",
    "    nn.optimizers.Adam(l_r=4e-3),\n",
    "    nn.losses.Crossentropy(),\n",
    "    nn.metrics.Accuracy())"
   ]
  },
  {
   "cell_type": "code",
   "execution_count": null,
   "metadata": {},
   "outputs": [],
   "source": [
    "model"
   ]
  },
  {
   "cell_type": "markdown",
   "metadata": {},
   "source": [
    "### Step 3: Train the model\n",
    "\n",
    "Since there are usually quite a large number of classes (=tokens) in language models, the training process is slower."
   ]
  },
  {
   "cell_type": "code",
   "execution_count": null,
   "metadata": {},
   "outputs": [],
   "source": [
    "epochs = 20000\n",
    "batch_size = 32\n",
    "\n",
    "train_loss_hist, val_loss_hist = model.train(x_train, y_train, epochs=epochs, batch_size=batch_size)\n",
    "# train_loss_hist, val_loss_hist = model.train(x_train, y_train, epochs=epochs, batch_size=batch_size, val_data=(x_val, y_val))"
   ]
  },
  {
   "cell_type": "code",
   "execution_count": null,
   "metadata": {},
   "outputs": [],
   "source": [
    "n = epochs // 100\n",
    "traces = {\n",
    "    \"train_loss\" : [l if i < n else sum(train_loss_hist[i-(n-1):i+1])/n for i,l in enumerate(train_loss_hist)],\n",
    "    \"val_loss\" : val_loss_hist\n",
    "}\n",
    "nn.analysis.plot_curve(traces=traces, figsize=(15, 3), title=\"loss history\", x_label=\"epoch\", y_label=\"loss\")"
   ]
  },
  {
   "cell_type": "markdown",
   "metadata": {},
   "source": [
    "### Step 4: Evaluate the model"
   ]
  },
  {
   "cell_type": "code",
   "execution_count": null,
   "metadata": {},
   "outputs": [],
   "source": [
    "loss, accuracy = model.evaluate(x_test, y_test)\n",
    "print(f'loss {loss:.4f}')\n",
    "print(f'accuracy {100*accuracy:.2f}')\n",
    "\n",
    "# 38.89 (5000e, b16, n32, 30d)\n",
    "# 44.36 (20000e, b16, n32, 30d)\n",
    "# 44.90 (20000e, b16, n64, 10d)\n",
    "# 47.20 (30000e, b8, n32, 10d)"
   ]
  },
  {
   "cell_type": "markdown",
   "metadata": {},
   "source": [
    "### Step 5: Generate text\n",
    "To see the model in action, it is given a starting sequence. Then it is used to generate $n$ characters using previous charactes as input. The better the model is trained, the more sensical the output will be. This can take quite a lot of training though."
   ]
  },
  {
   "cell_type": "code",
   "execution_count": null,
   "metadata": {},
   "outputs": [],
   "source": [
    "context = walnut.ones((block_size,)).astype(\"int\") # use ones as startig context\n",
    "\n",
    "for _ in range(500):\n",
    "    context_enc = one_hot_encode(context, tknzr.vocab_size) # encode tokens\n",
    "    context_enc = walnut.expand_dims(context_enc, 0) # create fake batch dim\n",
    "\n",
    "    pred = model(context_enc) # get model prediction for a character\n",
    "    index = walnut.choice(pred) # choose a character from prediction\n",
    "    print(tknzr.decode(walnut.expand_dims(index, 0)), end=\"\")\n",
    "\n",
    "    context = context.append(index, axis=0).astype(\"int\") # append predicted character\n",
    "    context = context[1:] # set new context"
   ]
  }
 ],
 "metadata": {
  "kernelspec": {
   "display_name": "Python 3",
   "language": "python",
   "name": "python3"
  },
  "language_info": {
   "codemirror_mode": {
    "name": "ipython",
    "version": 3
   },
   "file_extension": ".py",
   "mimetype": "text/x-python",
   "name": "python",
   "nbconvert_exporter": "python",
   "pygments_lexer": "ipython3",
   "version": "3.11.4"
  },
  "orig_nbformat": 4
 },
 "nbformat": 4,
 "nbformat_minor": 2
}
