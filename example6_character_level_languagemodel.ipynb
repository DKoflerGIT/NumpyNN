{
 "cells": [
  {
   "cell_type": "code",
   "execution_count": null,
   "metadata": {},
   "outputs": [],
   "source": [
    "import numpy as np\n",
    "import walnut\n",
    "from walnut import Tensor"
   ]
  },
  {
   "cell_type": "code",
   "execution_count": null,
   "metadata": {},
   "outputs": [],
   "source": [
    "with open(\"data/tinyshakespeare.txt\", \"r\") as f:\n",
    "    data = \"\".join(f.readlines()).lower()\n",
    "data[:100]"
   ]
  },
  {
   "cell_type": "code",
   "execution_count": null,
   "metadata": {},
   "outputs": [],
   "source": [
    "characters = sorted(set(data))\n",
    "i_to_s = {i:s for i,s in enumerate(characters)}\n",
    "s_to_i = {s:i for i,s in enumerate(characters)}\n",
    "vocab_size = len(characters)\n",
    "\"\".join(characters)"
   ]
  },
  {
   "cell_type": "code",
   "execution_count": null,
   "metadata": {},
   "outputs": [],
   "source": [
    "def encode(word):\n",
    "    return np.array([s_to_i[s] for s in word])\n",
    "\n",
    "def decode(vector):\n",
    "    return ''.join([i_to_s[i] for i in vector])"
   ]
  },
  {
   "cell_type": "code",
   "execution_count": null,
   "metadata": {},
   "outputs": [],
   "source": [
    "num_samples = 10000\n",
    "block_size = 3\n",
    "\n",
    "# initialize tensors with zeros\n",
    "X_array = np.zeros((num_samples, block_size, vocab_size))\n",
    "Y_array = np.zeros((num_samples, vocab_size))\n",
    "\n",
    "#randomly choose indices of blocks in the original data\n",
    "rand_indices = np.random.randint(0, len(data) - block_size, (num_samples,))\n",
    "\n",
    "for i, index in enumerate(rand_indices):\n",
    "    # get characters and the label from the data\n",
    "    context = data[index : index + block_size]\n",
    "    label = data[index + block_size]\n",
    "\n",
    "    # encode characters to get the indices\n",
    "    context_enc = encode(context)\n",
    "    label_enc = encode(label)\n",
    "\n",
    "    # one-hot-encode indices and add to the tensors\n",
    "    X_array[i] = np.eye(vocab_size)[context_enc]\n",
    "    Y_array[i] = np.eye(vocab_size)[label_enc]\n",
    "\n",
    "X = Tensor(X_array, dtype=\"int\")\n",
    "Y = Tensor(Y_array, dtype=\"int\")\n",
    "\n",
    "print(f\"{X.shape=}\")\n",
    "print(f\"{Y.shape=}\")"
   ]
  },
  {
   "cell_type": "code",
   "execution_count": null,
   "metadata": {},
   "outputs": [],
   "source": [
    "import walnut.nn as nn\n",
    "\n",
    "model = nn.Sequential(layers=[\n",
    "    nn.layers.Embedding(10, input_shape=(block_size, vocab_size)),\n",
    "    nn.layers.Linear(100, act=\"tanh\", norm=\"layer\"),\n",
    "    nn.layers.Linear(vocab_size, act=\"softmax\")\n",
    "])"
   ]
  },
  {
   "cell_type": "code",
   "execution_count": null,
   "metadata": {},
   "outputs": [],
   "source": [
    "model.compile(nn.optimizers.Adam(), nn.losses.Crossentropy(), nn.metrics.Accuracy())"
   ]
  },
  {
   "cell_type": "code",
   "execution_count": null,
   "metadata": {},
   "outputs": [],
   "source": [
    "model"
   ]
  },
  {
   "cell_type": "code",
   "execution_count": null,
   "metadata": {},
   "outputs": [],
   "source": [
    "train_hist, val_hist = model.train(X, Y, epochs=5000, verbose=\"all\")"
   ]
  },
  {
   "cell_type": "code",
   "execution_count": null,
   "metadata": {},
   "outputs": [],
   "source": [
    "traces = {\n",
    "    \"train_loss\" : train_hist,\n",
    "    \"val_loss\" : val_hist\n",
    "}\n",
    "nn.analysis.plot_curve(traces=traces, figsize=(20, 4), title=\"loss history\", x_label=\"epoch\", y_label=\"loss\")"
   ]
  },
  {
   "cell_type": "code",
   "execution_count": null,
   "metadata": {},
   "outputs": [],
   "source": [
    "context_list = [1] * block_size # use \" \" as start characters\n",
    "context_enc = np.eye(vocab_size)[context_list]\n",
    "context = walnut.expand_dims(Tensor(context_enc, dtype=\"int\"), 0)\n",
    "context.shape\n",
    "\n",
    "for i in range(1000):\n",
    "    pred = model(context) # get model prediction for a character\n",
    "    index = walnut.choice(pred) # choose following character\n",
    "    print(i_to_s[index], end=\"\")\n",
    "    if len(context_list) == 1:\n",
    "        context_list = [index]\n",
    "    else:\n",
    "        context_list = np.append(context_list[1:], index)\n",
    "    context_enc = np.eye(vocab_size)[context_list]\n",
    "    context = walnut.expand_dims(Tensor(context_enc, dtype=\"int\"), 0)"
   ]
  }
 ],
 "metadata": {
  "kernelspec": {
   "display_name": "Python 3",
   "language": "python",
   "name": "python3"
  },
  "language_info": {
   "codemirror_mode": {
    "name": "ipython",
    "version": 3
   },
   "file_extension": ".py",
   "mimetype": "text/x-python",
   "name": "python",
   "nbconvert_exporter": "python",
   "pygments_lexer": "ipython3",
   "version": "3.10.1"
  },
  "orig_nbformat": 4
 },
 "nbformat": 4,
 "nbformat_minor": 2
}
