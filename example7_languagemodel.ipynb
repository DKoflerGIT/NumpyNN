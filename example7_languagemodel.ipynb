{
 "cells": [
  {
   "cell_type": "code",
   "execution_count": null,
   "metadata": {},
   "outputs": [],
   "source": [
    "import numpy as np\n",
    "\n",
    "import walnut\n",
    "from walnut.preprocessing.text import WordTokenizer, remove_punctuation"
   ]
  },
  {
   "cell_type": "code",
   "execution_count": null,
   "metadata": {},
   "outputs": [],
   "source": [
    "with open(\"data/tinyshakespeare.txt\", \"r\") as f:\n",
    "    data = f.read()[:10000]"
   ]
  },
  {
   "cell_type": "code",
   "execution_count": null,
   "metadata": {},
   "outputs": [],
   "source": [
    "tknzr = WordTokenizer()\n",
    "tknzr.fit(data, max_tokens=300)"
   ]
  },
  {
   "cell_type": "code",
   "execution_count": null,
   "metadata": {},
   "outputs": [],
   "source": [
    "num_samples = 1000\n",
    "block_size = 3\n",
    "vocab_size = len(tknzr.tokens) + 1\n",
    "\n",
    "# initialize tensors with zeros\n",
    "X_array = np.zeros((num_samples, block_size, vocab_size))\n",
    "Y_array = np.zeros((num_samples, vocab_size))\n",
    "\n",
    "#randomly choose indices of blocks in the original data\n",
    "data_clean = remove_punctuation(data)\n",
    "data_split = data_clean.split(\" \")\n",
    "rand_indices = np.random.randint(0, len(data_split) - block_size, (num_samples,))\n",
    "\n",
    "for i, index in enumerate(rand_indices):\n",
    "    # get characters and the label from the data\n",
    "    context = data_split[index : index + block_size]\n",
    "    label = data_split[index + block_size]\n",
    "\n",
    "    # encode characters to get the indices\n",
    "    context_enc = [tknzr.encode(c) for c in context]\n",
    "    label_enc = tknzr.encode(label)\n",
    "\n",
    "    # one-hot-encode indices and add to the tensors\n",
    "    X_array[i] = np.eye(vocab_size)[context_enc]\n",
    "    Y_array[i] = np.eye(vocab_size)[label_enc]\n",
    "\n",
    "X = walnut.Tensor(X_array, dtype=\"int\")\n",
    "Y = walnut.Tensor(Y_array, dtype=\"int\")\n",
    "\n",
    "print(f\"{X.shape=}\")\n",
    "print(f\"{Y.shape=}\")"
   ]
  },
  {
   "cell_type": "code",
   "execution_count": null,
   "metadata": {},
   "outputs": [],
   "source": [
    "import walnut.nn as nn\n",
    "\n",
    "model = nn.Sequential(layers=[\n",
    "    nn.layers.Embedding(10, input_shape=(block_size, vocab_size)),\n",
    "    nn.layers.Linear(100, act=\"tanh\", norm=\"layer\"),\n",
    "    nn.layers.Linear(vocab_size, act=\"softmax\")\n",
    "])"
   ]
  },
  {
   "cell_type": "code",
   "execution_count": null,
   "metadata": {},
   "outputs": [],
   "source": [
    "model.compile(nn.optimizers.Adam(), nn.losses.Crossentropy(), nn.metrics.Accuracy())"
   ]
  },
  {
   "cell_type": "code",
   "execution_count": null,
   "metadata": {},
   "outputs": [],
   "source": [
    "model"
   ]
  },
  {
   "cell_type": "code",
   "execution_count": null,
   "metadata": {},
   "outputs": [],
   "source": [
    "train_hist, val_hist = model.train(X, Y, epochs=1000, verbose=\"all\")"
   ]
  },
  {
   "cell_type": "code",
   "execution_count": null,
   "metadata": {},
   "outputs": [],
   "source": [
    "traces = {\n",
    "    \"train_loss\" : train_hist,\n",
    "    \"val_loss\" : val_hist\n",
    "}\n",
    "nn.analysis.plot_curve(traces=traces, figsize=(20, 4), title=\"loss history\", x_label=\"epoch\", y_label=\"loss\")"
   ]
  },
  {
   "cell_type": "code",
   "execution_count": null,
   "metadata": {},
   "outputs": [],
   "source": [
    "prompt = \"He was just\"\n",
    "prompt_split = prompt.split(\" \")[-block_size:]\n",
    "\n",
    "for i in range(100):\n",
    "    X_test = walnut.Tensor([tknzr.encode(word) for word in prompt_split])\n",
    "    X_enc = walnut.expand_dims(walnut.preprocessing.encoding.one_hot_encode(X_test, vocab_size), 0)\n",
    "    pred = tknzr.decode(walnut.choice(model(X_enc)[0]))\n",
    "    print(pred, end=\" \")\n",
    "    prompt_split = prompt_split[1:] + [pred]"
   ]
  }
 ],
 "metadata": {
  "kernelspec": {
   "display_name": "Python 3",
   "language": "python",
   "name": "python3"
  },
  "language_info": {
   "codemirror_mode": {
    "name": "ipython",
    "version": 3
   },
   "file_extension": ".py",
   "mimetype": "text/x-python",
   "name": "python",
   "nbconvert_exporter": "python",
   "pygments_lexer": "ipython3",
   "version": "3.10.1"
  },
  "orig_nbformat": 4
 },
 "nbformat": 4,
 "nbformat_minor": 2
}
