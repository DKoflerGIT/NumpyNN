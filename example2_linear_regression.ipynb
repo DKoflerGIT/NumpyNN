{
 "cells": [
  {
   "attachments": {},
   "cell_type": "markdown",
   "metadata": {},
   "source": [
    "# Example 2\n",
    "### Linear Regression\n",
    "Here input and target values are defined. Currently, the model requires a minimum input dim of 2."
   ]
  },
  {
   "cell_type": "code",
   "execution_count": null,
   "metadata": {},
   "outputs": [],
   "source": [
    "import walnut\n",
    "\n",
    "X = walnut.Tensor([-1, 0, 1, 2, 3, 4])\n",
    "X = walnut.expand_dims(X, -1) # input must be dim 2\n",
    "\n",
    "Y = walnut.Tensor([-3, -1, 1, 3, 5, 7])\n",
    "Y = walnut.expand_dims(Y, -1) # output must be dim 2"
   ]
  },
  {
   "attachments": {},
   "cell_type": "markdown",
   "metadata": {},
   "source": [
    "The model is defined using one linear layer with one input (`in_channels=1`) and one output (`out_channels=1`).\n",
    "The goal of the model is to learn a linear function that best resembles the input data. A linear function in one imput dimension is given by $ y = a \\cdot x + b $.<br>\n",
    "Internally, $a$ is represented by a *weight* value and $ b $ by a *bias* value, both of which shall be learned by the model during the training process."
   ]
  },
  {
   "cell_type": "code",
   "execution_count": null,
   "metadata": {},
   "outputs": [],
   "source": [
    "import walnut.nn as nn\n",
    "\n",
    "model = nn.Sequential([nn.layers.Linear(in_channels=1, out_channels=1)])"
   ]
  },
  {
   "cell_type": "markdown",
   "metadata": {},
   "source": [
    "To evaluate the model during the training process a loss function (here the mean squared error) is used. After computing the loss, an optimizer is used to update the model and improve the next prediction."
   ]
  },
  {
   "cell_type": "code",
   "execution_count": null,
   "metadata": {},
   "outputs": [],
   "source": [
    "model.compile(optimizer=nn.optimizers.SGD(), loss_fn=nn.losses.MSE(), metric=nn.metrics.Accuracy())"
   ]
  },
  {
   "attachments": {},
   "cell_type": "markdown",
   "metadata": {},
   "source": [
    "The model can then be trained using input and target values. This is done in a loop 500 times."
   ]
  },
  {
   "cell_type": "code",
   "execution_count": null,
   "metadata": {},
   "outputs": [],
   "source": [
    "train_loss_hist, val_loss_hist = model.train(X, Y, epochs=1000, verbose=None)"
   ]
  },
  {
   "attachments": {},
   "cell_type": "markdown",
   "metadata": {},
   "source": [
    "After training the model, it can be used to make predictions."
   ]
  },
  {
   "cell_type": "code",
   "execution_count": null,
   "metadata": {},
   "outputs": [],
   "source": [
    "sample = 10\n",
    "print(f\"{model(walnut.Tensor([[sample]])).item():.2f}\")"
   ]
  },
  {
   "cell_type": "markdown",
   "metadata": {},
   "source": [
    "Here is the linear function the model learned"
   ]
  },
  {
   "cell_type": "code",
   "execution_count": null,
   "metadata": {},
   "outputs": [],
   "source": [
    "import matplotlib.pyplot as plt\n",
    "\n",
    "b = model(walnut.Tensor([[0]])).item()\n",
    "a = model(walnut.Tensor([[1]])).item() - b\n",
    "print(f\"linear function learned:\\ny = {a:.2f} * x + {b:.2f}\")\n",
    "\n",
    "x = walnut.expand_dims(walnut.arange(6, -2), -1)\n",
    "y = model(x)\n",
    "plt.plot(x.data, y.data, c=\"k\") # linear function learned\n",
    "plt.scatter(X.data, Y.data, c=\"r\") # training data"
   ]
  }
 ],
 "metadata": {
  "kernelspec": {
   "display_name": "Python 3",
   "language": "python",
   "name": "python3"
  },
  "language_info": {
   "codemirror_mode": {
    "name": "ipython",
    "version": 3
   },
   "file_extension": ".py",
   "mimetype": "text/x-python",
   "name": "python",
   "nbconvert_exporter": "python",
   "pygments_lexer": "ipython3",
   "version": "3.11.4"
  },
  "orig_nbformat": 4
 },
 "nbformat": 4,
 "nbformat_minor": 2
}
