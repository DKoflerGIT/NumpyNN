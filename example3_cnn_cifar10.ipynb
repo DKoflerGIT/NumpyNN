{
 "cells": [
  {
   "cell_type": "code",
   "execution_count": null,
   "metadata": {},
   "outputs": [],
   "source": [
    "from src.numpynn import layers, activations, networks, utils, optimizers, losses, metrics, paddings, preprocessing\n",
    "import numpy as np\n",
    "import matplotlib.pyplot as plt\n",
    "import random"
   ]
  },
  {
   "cell_type": "code",
   "execution_count": null,
   "metadata": {},
   "outputs": [],
   "source": [
    "def unpickle(file):\n",
    "    import pickle\n",
    "    with open(file, 'rb') as fo:\n",
    "        dict = pickle.load(fo, encoding='bytes')\n",
    "    return dict"
   ]
  },
  {
   "cell_type": "code",
   "execution_count": null,
   "metadata": {},
   "outputs": [],
   "source": [
    "data = unpickle('data/cifar10/test_batch')\n",
    "features = data[b'data']\n",
    "labels = np.array(data[b'labels'])\n",
    "\n",
    "print(f'{features.shape=}')\n",
    "print(f'{labels.shape=}')"
   ]
  },
  {
   "cell_type": "code",
   "execution_count": null,
   "metadata": {},
   "outputs": [],
   "source": [
    "x_reshaped = features.reshape((10000, 3, 32, -1))\n",
    "x_reshaped = np.moveaxis(x_reshaped, 1, -1)\n",
    "x_reshaped.shape"
   ]
  },
  {
   "cell_type": "code",
   "execution_count": null,
   "metadata": {},
   "outputs": [],
   "source": [
    "label_names = ['airplane', 'automobile', 'bird', 'cat', 'deer', 'dog', 'frog', 'horse', 'ship', 'truck']\n",
    "\n",
    "i = 5\n",
    "plt.imshow(x_reshaped[i])\n",
    "print(label_names[labels[i]])"
   ]
  },
  {
   "cell_type": "code",
   "execution_count": null,
   "metadata": {},
   "outputs": [],
   "source": [
    "X = x_reshaped / 255"
   ]
  },
  {
   "cell_type": "code",
   "execution_count": null,
   "metadata": {},
   "outputs": [],
   "source": [
    "Y = preprocessing.one_hot_encode(labels, 10)\n",
    "Y[:10]"
   ]
  },
  {
   "cell_type": "code",
   "execution_count": null,
   "metadata": {},
   "outputs": [],
   "source": [
    "x_norm = X / 255"
   ]
  },
  {
   "cell_type": "code",
   "execution_count": null,
   "metadata": {},
   "outputs": [],
   "source": [
    "ratio_val = 0.1\n",
    "ratio_test = 0.1\n",
    "\n",
    "shuffle_index = np.arange(len(x_norm))\n",
    "np.random.shuffle(shuffle_index)\n",
    "x_shuffled = x_norm[shuffle_index]\n",
    "y_shuffled = Y[shuffle_index]\n",
    "\n",
    "n1 = int(len(x_norm) * (1 - ratio_val - ratio_test))\n",
    "n2 = int(len(x_norm) * (1 - ratio_val))\n",
    "\n",
    "x_train = x_shuffled[:n1]\n",
    "y_train = y_shuffled[:n1]\n",
    "x_val = x_shuffled[n1:n2]\n",
    "y_val = y_shuffled[n1:n2]\n",
    "x_test = x_shuffled[n2:]\n",
    "y_test = y_shuffled[n2:]"
   ]
  },
  {
   "cell_type": "code",
   "execution_count": null,
   "metadata": {},
   "outputs": [],
   "source": [
    "print(f'{x_train.shape=}')\n",
    "print(f'{y_train.shape=}')\n",
    "print(f'{x_val.shape=}')\n",
    "print(f'{y_val.shape=}')\n",
    "print(f'{x_test.shape=}')\n",
    "print(f'{y_test.shape=}')"
   ]
  },
  {
   "cell_type": "code",
   "execution_count": null,
   "metadata": {},
   "outputs": [],
   "source": [
    "model = networks.FeedForward(input_shape=(32,32,3), layers=[\n",
    "    layers.Convolution(nr_kernels=8, kernel_size=(3, 3), activation=activations.Tanh(), padding=paddings.Same),\n",
    "    layers.Convolution(nr_kernels=8, kernel_size=(3, 3), activation=activations.Tanh(), padding=paddings.Same),\n",
    "    layers.MaxPooling(pooling_window=(2, 2)),\n",
    "    layers.Convolution(nr_kernels=16, kernel_size=(3, 3), activation=activations.Tanh(), padding=paddings.Same),\n",
    "    layers.Convolution(nr_kernels=16, kernel_size=(3, 3), activation=activations.Tanh(), padding=paddings.Same),\n",
    "    layers.MaxPooling(pooling_window=(2, 2)),\n",
    "    layers.Flatten(),\n",
    "    layers.Linear(nr_neurons=64, activation=activations.Tanh()),\n",
    "    layers.Linear(nr_neurons=10, activation=activations.Softmax())\n",
    "])"
   ]
  },
  {
   "cell_type": "code",
   "execution_count": null,
   "metadata": {},
   "outputs": [],
   "source": [
    "model.compile(\n",
    "    optimizer=optimizers.Adam(learning_rate=1e-4),\n",
    "    loss_function=losses.Crossentropy(),\n",
    "    metric=metrics.Accuracy\n",
    ")"
   ]
  },
  {
   "cell_type": "code",
   "execution_count": null,
   "metadata": {},
   "outputs": [],
   "source": [
    "model.summary()"
   ]
  },
  {
   "cell_type": "code",
   "execution_count": null,
   "metadata": {},
   "outputs": [],
   "source": [
    "model.train(x_train, y_train, epochs=100, batch_size=128, val_data=(x_val, y_val))"
   ]
  },
  {
   "cell_type": "code",
   "execution_count": null,
   "metadata": {},
   "outputs": [],
   "source": [
    "model.evaluate(x_test, y_test)"
   ]
  },
  {
   "cell_type": "code",
   "execution_count": null,
   "metadata": {},
   "outputs": [],
   "source": [
    "i = random.randint(0, len(X))\n",
    "image = X[i]\n",
    "p, _ = model(np.expand_dims(image, 0))\n",
    "plt.imshow(image, cmap='gray')"
   ]
  },
  {
   "cell_type": "code",
   "execution_count": null,
   "metadata": {},
   "outputs": [],
   "source": [
    "plt.bar(np.arange(0, 10), p.reshape(10,))\n",
    "\n",
    "# 0 airplane\n",
    "# 1 automobile\n",
    "# 2 bird\n",
    "# 3 cat\n",
    "# 4 deer\n",
    "# 5 dog\n",
    "# 6 frog\n",
    "# 7 horse\n",
    "# 8 ship\n",
    "# 9 truck"
   ]
  }
 ],
 "metadata": {
  "kernelspec": {
   "display_name": "Python 3.10.1 64-bit",
   "language": "python",
   "name": "python3"
  },
  "language_info": {
   "codemirror_mode": {
    "name": "ipython",
    "version": 3
   },
   "file_extension": ".py",
   "mimetype": "text/x-python",
   "name": "python",
   "nbconvert_exporter": "python",
   "pygments_lexer": "ipython3",
   "version": "3.10.1"
  },
  "orig_nbformat": 4,
  "vscode": {
   "interpreter": {
    "hash": "deee277ef8cb4a05cf6441d551c854fa5e547ddedbca2c10e6f5685ea62b6c02"
   }
  }
 },
 "nbformat": 4,
 "nbformat_minor": 2
}
