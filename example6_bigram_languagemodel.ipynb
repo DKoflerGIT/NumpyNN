{
 "cells": [
  {
   "cell_type": "code",
   "execution_count": null,
   "metadata": {},
   "outputs": [],
   "source": [
    "import numpy as np\n",
    "import walnut\n",
    "from walnut import Tensor"
   ]
  },
  {
   "cell_type": "code",
   "execution_count": null,
   "metadata": {},
   "outputs": [],
   "source": [
    "with open(\"data/tinyshakespeare.txt\", \"r\") as f:\n",
    "    data = \"\".join(f.readlines())\n",
    "\n",
    "data_red = data.lower()"
   ]
  },
  {
   "cell_type": "code",
   "execution_count": null,
   "metadata": {},
   "outputs": [],
   "source": [
    "i_to_s = {i:s for i,s in enumerate(sorted(set(data_red)))}\n",
    "s_to_i = {s:i for i,s in enumerate(sorted(set(data_red)))}\n",
    "vocab_size = len(i_to_s)"
   ]
  },
  {
   "cell_type": "code",
   "execution_count": null,
   "metadata": {},
   "outputs": [],
   "source": [
    "num_samples = 10000\n",
    "rand_indices = np.random.randint(0, len(data_red) - 1, (num_samples,))"
   ]
  },
  {
   "cell_type": "code",
   "execution_count": null,
   "metadata": {},
   "outputs": [],
   "source": [
    "# convert array of characters to indices\n",
    "x_indices = [s_to_i[data_red[i]] for i in rand_indices]\n",
    "y_indices = [s_to_i[data_red[i + 1]] for i in rand_indices]\n",
    "\n",
    "# initialize Tensors and reshape\n",
    "X = Tensor(x_indices)\n",
    "Y = Tensor(y_indices)\n",
    "\n",
    "print(f\"{X.shape=}\")\n",
    "print(f\"{Y.shape=}\")"
   ]
  },
  {
   "cell_type": "code",
   "execution_count": null,
   "metadata": {},
   "outputs": [],
   "source": [
    "X_enc = walnut.preprocessing.one_hot_encode(X, vocab_size)\n",
    "Y_enc = walnut.preprocessing.one_hot_encode(Y, vocab_size)\n",
    "\n",
    "print(f\"{X_enc.shape=}\")\n",
    "print(f\"{Y_enc.shape=}\")"
   ]
  },
  {
   "cell_type": "code",
   "execution_count": null,
   "metadata": {},
   "outputs": [],
   "source": [
    "import walnut.nn as nn\n",
    "\n",
    "model = nn.Sequential(layers=[\n",
    "    nn.layers.Character(10, input_shape=(vocab_size,)),\n",
    "    nn.layers.Linear(100, act=\"tanh\", norm=\"layer\"),\n",
    "    nn.layers.Linear(vocab_size, act=\"softmax\")\n",
    "])"
   ]
  },
  {
   "cell_type": "code",
   "execution_count": null,
   "metadata": {},
   "outputs": [],
   "source": [
    "model.compile(nn.optimizers.Adam(), nn.losses.Crossentropy(), nn.metrics.Accuracy())"
   ]
  },
  {
   "cell_type": "code",
   "execution_count": null,
   "metadata": {},
   "outputs": [],
   "source": [
    "model"
   ]
  },
  {
   "cell_type": "code",
   "execution_count": null,
   "metadata": {},
   "outputs": [],
   "source": [
    "# high score 0.0614\n",
    "train_hist, val_hist = model.train(X_enc, Y_enc, epochs=5000, verbose=\"reduced\")"
   ]
  },
  {
   "cell_type": "code",
   "execution_count": null,
   "metadata": {},
   "outputs": [],
   "source": [
    "traces = {\n",
    "    \"train_loss\" : train_hist,\n",
    "    \"val_loss\" : val_hist\n",
    "}\n",
    "nn.analysis.plot_curve(traces=traces, figsize=(20, 4), title=\"loss history\", x_label=\"epoch\", y_label=\"loss\")"
   ]
  },
  {
   "cell_type": "code",
   "execution_count": null,
   "metadata": {},
   "outputs": [],
   "source": [
    "p_char = Tensor([1]) # use \" \" as start character\n",
    "p_char = walnut.preprocessing.one_hot_encode(p_char, vocab_size)\n",
    "\n",
    "for i in range(1000):\n",
    "    pred = model(p_char) # get model prediction for a character\n",
    "    index = walnut.choice(pred) # choose following character\n",
    "    print(i_to_s[index], end=\"\")\n",
    "    p_char = walnut.preprocessing.one_hot_encode(Tensor([index]), vocab_size) # set base character to be predicted character"
   ]
  }
 ],
 "metadata": {
  "kernelspec": {
   "display_name": "Python 3",
   "language": "python",
   "name": "python3"
  },
  "language_info": {
   "codemirror_mode": {
    "name": "ipython",
    "version": 3
   },
   "file_extension": ".py",
   "mimetype": "text/x-python",
   "name": "python",
   "nbconvert_exporter": "python",
   "pygments_lexer": "ipython3",
   "version": "3.10.1"
  },
  "orig_nbformat": 4
 },
 "nbformat": 4,
 "nbformat_minor": 2
}
