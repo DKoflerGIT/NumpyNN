{
 "cells": [
  {
   "cell_type": "code",
   "execution_count": 42,
   "metadata": {},
   "outputs": [],
   "source": [
    "import pandas as pd\n",
    "import walnut"
   ]
  },
  {
   "attachments": {},
   "cell_type": "markdown",
   "metadata": {},
   "source": [
    "# Example 3.2\n",
    "\n",
    "### Deep neural network using a custom model\n",
    "\n",
    "The goal of this model is to classify iris species based on numerical features.\n",
    "\n",
    "### Step 1: Prepare data\n",
    "You will need to download the dataset from https://www.kaggle.com/datasets/uciml/iris and place it into the *data* directory."
   ]
  },
  {
   "cell_type": "code",
   "execution_count": 43,
   "metadata": {},
   "outputs": [],
   "source": [
    "data_orig = pd.read_csv('data/iris.csv')\n",
    "data = data_orig.copy()\n",
    "data.drop(columns=['Id'], inplace=True)"
   ]
  },
  {
   "cell_type": "code",
   "execution_count": 44,
   "metadata": {},
   "outputs": [],
   "source": [
    "data_enc = walnut.preprocessing.encoding.pd_categorical_to_numeric(data, columns=[\"Species\"])"
   ]
  },
  {
   "cell_type": "code",
   "execution_count": 45,
   "metadata": {},
   "outputs": [],
   "source": [
    "tensor = walnut.pd_to_tensor(data_enc)\n",
    "t_train, t_val, t_test = walnut.preprocessing.split_train_val_test(tensor)"
   ]
  },
  {
   "attachments": {},
   "cell_type": "markdown",
   "metadata": {},
   "source": [
    "Features and labels are now seperated."
   ]
  },
  {
   "cell_type": "code",
   "execution_count": 46,
   "metadata": {},
   "outputs": [],
   "source": [
    "x_train, y_train = t_train[:, :-1], t_train[:, -1].astype(\"int\")\n",
    "x_val, y_val = t_val[:, :-1], t_val[:, -1].astype(\"int\")\n",
    "x_test, y_test = t_test[:, :-1], t_test[:, -1].astype(\"int\")"
   ]
  },
  {
   "cell_type": "code",
   "execution_count": 47,
   "metadata": {},
   "outputs": [],
   "source": [
    "x_train = walnut.preprocessing.normalize(x_train, axis=0)\n",
    "x_val = walnut.preprocessing.normalize(x_val, axis=0)\n",
    "x_test = walnut.preprocessing.normalize(x_test, axis=0)"
   ]
  },
  {
   "cell_type": "code",
   "execution_count": 48,
   "metadata": {},
   "outputs": [
    {
     "name": "stdout",
     "output_type": "stream",
     "text": [
      "x_train.shape=(120, 4)\n",
      "y_train.shape=(120,)\n",
      "x_val.shape=(15, 4)\n",
      "y_val.shape=(15,)\n",
      "x_test.shape=(15, 4)\n",
      "y_test.shape=(15,)\n"
     ]
    }
   ],
   "source": [
    "print (f'{x_train.shape=}')\n",
    "print (f'{y_train.shape=}')\n",
    "\n",
    "print (f'{x_val.shape=}')\n",
    "print (f'{y_val.shape=}')\n",
    "\n",
    "print (f'{x_test.shape=}')\n",
    "print (f'{y_test.shape=}')"
   ]
  },
  {
   "attachments": {},
   "cell_type": "markdown",
   "metadata": {},
   "source": [
    "### Step 2: Build a custom model\n",
    "If you want to define very specifically what the forward and backward pass of your model should look like, you can build your own custom model instead of using the predefined sequential model."
   ]
  },
  {
   "cell_type": "code",
   "execution_count": 49,
   "metadata": {},
   "outputs": [],
   "source": [
    "import walnut.nn as nn\n",
    "from walnut.nn import Model\n",
    "from walnut.nn.layers import *\n",
    "from walnut.nn.inits import *\n",
    "\n",
    "n_hidden = 100\n",
    "gain = get_gain(\"tanh\")\n",
    "init = kaiming_normal\n",
    "\n",
    "class MyCustomModel(Model):\n",
    "    def __init__(self):\n",
    "        super().__init__()\n",
    "\n",
    "        # define your layers\n",
    "        self.lin1 = Linear(4, n_hidden, weights=init((4, n_hidden), gain))\n",
    "        self.tanh1 = Tanh()\n",
    "        self.lin2 = Linear(n_hidden, n_hidden, weights=init((n_hidden, n_hidden), gain))\n",
    "        self.tanh2 = Tanh()\n",
    "        self.lin3 = Linear(n_hidden, 3, weights=init((n_hidden, 3)))\n",
    "\n",
    "        self.layers = [self.lin1, self.tanh1, self.lin2, self.tanh2, self.lin3]\n",
    "\n",
    "    def __call__(self, x):\n",
    "\n",
    "        # define the forward pass\n",
    "        y = self.lin3(self.tanh2(self.lin2(self.tanh1(self.lin1(x)))))\n",
    "\n",
    "        # define the backward pass\n",
    "        self.backward = lambda y_grad: self.lin1.backward(self.tanh1.backward(self.lin2.backward(self.tanh2.backward(self.lin3.backward(y_grad)))))\n",
    "        \n",
    "        return y\n",
    "\n",
    "model = MyCustomModel()"
   ]
  },
  {
   "cell_type": "code",
   "execution_count": 50,
   "metadata": {},
   "outputs": [],
   "source": [
    "model.compile(\n",
    "    optimizer=nn.optimizers.SGD(),\n",
    "    loss_fn=nn.losses.Crossentropy(),\n",
    "    metric=nn.metrics.get_accuracy\n",
    ")"
   ]
  },
  {
   "cell_type": "code",
   "execution_count": 51,
   "metadata": {},
   "outputs": [
    {
     "data": {
      "text/plain": [
       "MyCustomModel()\n",
       "Linear(in_channels=4, out_channels=100, use_bias=True)\n",
       "Tanh()\n",
       "Linear(in_channels=100, out_channels=100, use_bias=True)\n",
       "Tanh()\n",
       "Linear(in_channels=100, out_channels=3, use_bias=True)"
      ]
     },
     "execution_count": 51,
     "metadata": {},
     "output_type": "execute_result"
    }
   ],
   "source": [
    "model"
   ]
  },
  {
   "cell_type": "code",
   "execution_count": 52,
   "metadata": {},
   "outputs": [
    {
     "name": "stdout",
     "output_type": "stream",
     "text": [
      "---------------------------------------------------------------\n",
      "      Layer                Output Shape            # Parameters\n",
      "===============================================================\n",
      " 0. 0 Linear               (-1, 100)                        500\n",
      " 1. 0 Tanh                 (-1, 100)                          0\n",
      " 2. 0 Linear               (-1, 100)                      10100\n",
      " 3. 0 Tanh                 (-1, 100)                          0\n",
      " 4. 0 Linear               (-1, 3)                          303\n",
      "===============================================================\n",
      "\n",
      "Total parameters: 10903\n"
     ]
    }
   ],
   "source": [
    "from walnut.nn.analysis import model_summary\n",
    "model_summary(model, (4,))"
   ]
  },
  {
   "attachments": {},
   "cell_type": "markdown",
   "metadata": {},
   "source": [
    "### Step 3: Train the model"
   ]
  },
  {
   "cell_type": "code",
   "execution_count": 53,
   "metadata": {},
   "outputs": [
    {
     "name": "stdout",
     "output_type": "stream",
     "text": [
      "epoch     1/  100 | step      2.00 ms | loss   1.6417 | val_loss   1.2615\n",
      "epoch    10/  100 | step      2.97 ms | loss   0.6138 | val_loss   0.5293\n",
      "epoch    20/  100 | step      3.00 ms | loss   0.4545 | val_loss   0.4119\n",
      "epoch    30/  100 | step      2.00 ms | loss   0.3979 | val_loss   0.3690\n",
      "epoch    40/  100 | step      2.00 ms | loss   0.3657 | val_loss   0.3461\n",
      "epoch    50/  100 | step      2.00 ms | loss   0.3439 | val_loss   0.3317\n",
      "epoch    60/  100 | step      2.00 ms | loss   0.3276 | val_loss   0.3216\n",
      "epoch    70/  100 | step      2.00 ms | loss   0.3148 | val_loss   0.3138\n",
      "epoch    80/  100 | step      3.00 ms | loss   0.3042 | val_loss   0.3076\n",
      "epoch    90/  100 | step      2.00 ms | loss   0.2953 | val_loss   0.3022\n",
      "epoch   100/  100 | step      2.00 ms | loss   0.2874 | val_loss   0.2976\n"
     ]
    }
   ],
   "source": [
    "train_loss_hist, val_loss_hist = model.train(x_train, y_train, epochs=100, val_data=(x_val, y_val))"
   ]
  },
  {
   "cell_type": "code",
   "execution_count": 54,
   "metadata": {},
   "outputs": [
    {
     "data": {
      "image/png": "[encoded data removed]",
      "text/plain": [
       "<Figure size 1500x300 with 1 Axes>"
      ]
     },
     "metadata": {},
     "output_type": "display_data"
    }
   ],
   "source": [
    "traces = {\n",
    "    \"train_loss\" : train_loss_hist,\n",
    "    \"val_loss\" : val_loss_hist\n",
    "}\n",
    "\n",
    "nn.analysis.plot_curve(traces=traces, figsize=(15, 3), title=\"loss history\", x_label=\"epoch\", y_label=\"loss\")"
   ]
  },
  {
   "attachments": {},
   "cell_type": "markdown",
   "metadata": {},
   "source": [
    "### Step 4: Evaluate the model\n",
    "Using the defined metric, the model's performance can be evaluated using testing/validation data."
   ]
  },
  {
   "cell_type": "code",
   "execution_count": 55,
   "metadata": {},
   "outputs": [
    {
     "name": "stdout",
     "output_type": "stream",
     "text": [
      "loss 0.1267\n",
      "accuracy 93.33\n"
     ]
    }
   ],
   "source": [
    "loss, accuracy = model.evaluate(x_test, y_test)\n",
    "print(f'loss {loss:.4f}')\n",
    "print(f'accuracy {100*accuracy:.2f}')"
   ]
  }
 ],
 "metadata": {
  "kernelspec": {
   "display_name": "Python 3.10.1 64-bit",
   "language": "python",
   "name": "python3"
  },
  "language_info": {
   "codemirror_mode": {
    "name": "ipython",
    "version": 3
   },
   "file_extension": ".py",
   "mimetype": "text/x-python",
   "name": "python",
   "nbconvert_exporter": "python",
   "pygments_lexer": "ipython3",
   "version": "3.11.4"
  },
  "orig_nbformat": 4,
  "vscode": {
   "interpreter": {
    "hash": "deee277ef8cb4a05cf6441d551c854fa5e547ddedbca2c10e6f5685ea62b6c02"
   }
  }
 },
 "nbformat": 4,
 "nbformat_minor": 2
}
