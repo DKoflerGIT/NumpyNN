{
 "cells": [
  {
   "cell_type": "markdown",
   "metadata": {},
   "source": [
    "# Example 1: Tensors"
   ]
  },
  {
   "cell_type": "code",
   "execution_count": null,
   "metadata": {},
   "outputs": [],
   "source": [
    "import compyute as cp"
   ]
  },
  {
   "attachments": {},
   "cell_type": "markdown",
   "metadata": {},
   "source": [
    "This example shows how the `Tensor` object can be used. `Tensor`s are more or less wrappers around `NumPy` or `CuPy` arrays. They can be used in a very similar way to `NumPy` arrays."
   ]
  },
  {
   "cell_type": "code",
   "execution_count": null,
   "metadata": {},
   "outputs": [],
   "source": [
    "# create a tensor from a list of lists, the data type is inferred automatically\n",
    "a = cp.tensor([[4, 5, 6], [7, 8, 9], [10, 11, 12]])\n",
    "\n",
    "print(a)\n",
    "print(f\"{a.shape=}\")\n",
    "print(f\"{a.dtype=}\")\n",
    "print(f\"{a.device=}\")"
   ]
  },
  {
   "cell_type": "markdown",
   "metadata": {},
   "source": [
    "You can also specifiy the data type ..."
   ]
  },
  {
   "cell_type": "code",
   "execution_count": null,
   "metadata": {},
   "outputs": [],
   "source": [
    "b = cp.tensor([1, 2, 3], dtype=cp.int32)\n",
    "c = cp.tensor([1, 2, 3], dtype=\"int64\")\n",
    "\n",
    "print(f\"{b.dtype=}\")\n",
    "print(f\"{c.dtype=}\")"
   ]
  },
  {
   "cell_type": "markdown",
   "metadata": {},
   "source": [
    "... or change it"
   ]
  },
  {
   "cell_type": "code",
   "execution_count": null,
   "metadata": {},
   "outputs": [],
   "source": [
    "a = a.to_type(cp.float64)\n",
    "b = b.to_float()\n",
    "print(f\"{a.dtype=}\")\n",
    "print(f\"{b.dtype=}\")"
   ]
  },
  {
   "cell_type": "markdown",
   "metadata": {},
   "source": [
    "The tensor data resides on either the CPU or GPU. By default, a tensor will be created on the CPU. You can specifiy the device when creating a tensor ..."
   ]
  },
  {
   "cell_type": "code",
   "execution_count": null,
   "metadata": {},
   "outputs": [],
   "source": [
    "c = cp.tensor([1, 2, 3])\n",
    "d = cp.tensor([1, 2, 3], device=cp.cuda)\n",
    "e = cp.tensor([1, 2, 3], device=\"cuda\")\n",
    "\n",
    "print(f\"{c.device=}\")\n",
    "print(f\"{d.device=}\")\n",
    "print(f\"{e.device=}\")"
   ]
  },
  {
   "cell_type": "markdown",
   "metadata": {},
   "source": [
    "... and also move the data between devices"
   ]
  },
  {
   "cell_type": "code",
   "execution_count": null,
   "metadata": {},
   "outputs": [],
   "source": [
    "c = c.to_device(cp.cuda)\n",
    "f = c.to_cpu()\n",
    "\n",
    "print(f\"{c.device=}\")\n",
    "print(f\"{f.device=}\")"
   ]
  },
  {
   "cell_type": "markdown",
   "metadata": {},
   "source": [
    "##### Tensor operations"
   ]
  },
  {
   "cell_type": "code",
   "execution_count": null,
   "metadata": {},
   "outputs": [],
   "source": [
    "# addition of tensors\n",
    "d = a + b\n",
    "print(d)\n",
    "\n",
    "# matrix multiplication of tensors\n",
    "e = a @ b\n",
    "print(e)\n",
    "\n",
    "# sum all elements of a tensor\n",
    "f = cp.sum(d)\n",
    "print(f)"
   ]
  },
  {
   "attachments": {},
   "cell_type": "markdown",
   "metadata": {},
   "source": [
    "#### Creating prefilled Tensors\n",
    "\n",
    "Compyute offeres a variety of ways to initialize tensors (most of them have `NumPy` or `CuPy` counterparts)."
   ]
  },
  {
   "cell_type": "code",
   "execution_count": null,
   "metadata": {},
   "outputs": [],
   "source": [
    "# create a tensor with integer values drawn from a uniform distribution\n",
    "X = cp.random.uniform_int((1, 1, 5, 5), 0, 10)\n",
    "print(X)\n",
    "\n",
    "# create a tensor with real values drawn from a normal distribution\n",
    "W = cp.random.normal((3, 1, 3, 3))\n",
    "print(W)"
   ]
  },
  {
   "cell_type": "markdown",
   "metadata": {},
   "source": [
    "Compyute has many more functions to create and manipulate tensors.\n",
    "\n",
    "`Tensor`s also contain a `__array__` method, making them usable as a drop-in replacement for `NumPy` arrays and usable with methods from e.g. `scikit-learn`."
   ]
  },
  {
   "cell_type": "code",
   "execution_count": null,
   "metadata": {},
   "outputs": [],
   "source": [
    "# ! pip install scikit-learn"
   ]
  },
  {
   "cell_type": "code",
   "execution_count": null,
   "metadata": {},
   "outputs": [],
   "source": [
    "from sklearn.metrics import f1_score\n",
    "\n",
    "y_pred = cp.random.uniform_int((20,), 0, 2)\n",
    "y_true = cp.random.uniform_int((20,), 0, 2)\n",
    "\n",
    "f1_score(y_pred, y_true)"
   ]
  }
 ],
 "metadata": {
  "kernelspec": {
   "display_name": "Python 3",
   "language": "python",
   "name": "python3"
  },
  "language_info": {
   "codemirror_mode": {
    "name": "ipython",
    "version": 3
   },
   "file_extension": ".py",
   "mimetype": "text/x-python",
   "name": "python",
   "nbconvert_exporter": "python",
   "pygments_lexer": "ipython3",
   "version": "3.11.2"
  },
  "orig_nbformat": 4
 },
 "nbformat": 4,
 "nbformat_minor": 2
}
