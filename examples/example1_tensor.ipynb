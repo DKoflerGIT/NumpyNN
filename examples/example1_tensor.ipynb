{
 "cells": [
  {
   "attachments": {},
   "cell_type": "markdown",
   "metadata": {},
   "source": [
    "# Example 1\n",
    "\n",
    "### Tensor object\n",
    "This example shows how the Tensor object and individual model layers can be used independently to exlore their workings. Tensor objects are extensions of NumPy arrays. They can be used in a very similar way."
   ]
  },
  {
   "cell_type": "code",
   "execution_count": null,
   "metadata": {},
   "outputs": [],
   "source": [
    "import sys\n",
    "sys.path.append(\"..\") # for sibling import\n",
    "\n",
    "import walnut\n",
    "from walnut import Tensor\n",
    "\n",
    "a = Tensor([1, 2, 3])\n",
    "b = walnut.randn((3,))\n",
    "\n",
    "c = a + b # addition of tensors\n",
    "d = a @ b # matrix multiplication of tensors"
   ]
  },
  {
   "attachments": {},
   "cell_type": "markdown",
   "metadata": {},
   "source": [
    "Walnut offeres a variety of ways to initialize tensors (most of them are very similar to their NumPy counterpart)."
   ]
  },
  {
   "cell_type": "code",
   "execution_count": null,
   "metadata": {},
   "outputs": [],
   "source": [
    "X = walnut.randint((1, 1, 5, 5), 0, 10)\n",
    "W = walnut.randn((3, 1, 3, 3))"
   ]
  },
  {
   "attachments": {},
   "cell_type": "markdown",
   "metadata": {},
   "source": [
    "### Layer objects\n",
    "Layer parameters can be assigned manually and used for a forward pass."
   ]
  },
  {
   "cell_type": "code",
   "execution_count": null,
   "metadata": {},
   "outputs": [],
   "source": [
    "import walnut.nn as nn\n",
    "\n",
    "conv = nn.layers.Convolution2d(1, 3, weights=W)\n",
    "conv.training = True # tells the layer to define a backward function\n",
    "conv(X)"
   ]
  },
  {
   "attachments": {},
   "cell_type": "markdown",
   "metadata": {},
   "source": [
    "The same goes for the backward pass. Here an output gradient is needed, before a backward pass can be performed."
   ]
  },
  {
   "cell_type": "code",
   "execution_count": null,
   "metadata": {},
   "outputs": [],
   "source": [
    "y_grad = walnut.randn(conv.y.shape).data\n",
    "conv.backward(y_grad)"
   ]
  }
 ],
 "metadata": {
  "kernelspec": {
   "display_name": "Python 3",
   "language": "python",
   "name": "python3"
  },
  "language_info": {
   "codemirror_mode": {
    "name": "ipython",
    "version": 3
   },
   "file_extension": ".py",
   "mimetype": "text/x-python",
   "name": "python",
   "nbconvert_exporter": "python",
   "pygments_lexer": "ipython3",
   "version": "3.11.4"
  },
  "orig_nbformat": 4
 },
 "nbformat": 4,
 "nbformat_minor": 2
}
