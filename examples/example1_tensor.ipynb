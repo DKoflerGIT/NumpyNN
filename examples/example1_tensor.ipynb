{
 "cells": [
  {
   "cell_type": "markdown",
   "metadata": {},
   "source": [
    "# Example 1"
   ]
  },
  {
   "cell_type": "code",
   "execution_count": null,
   "metadata": {},
   "outputs": [],
   "source": [
    "import sys\n",
    "sys.path.append(\"..\")  # for sibling import\n",
    "\n",
    "import compyute as cp\n",
    "from compyute import Tensor, tensor"
   ]
  },
  {
   "attachments": {},
   "cell_type": "markdown",
   "metadata": {},
   "source": [
    "### Tensor object\n",
    "This example shows how the Tensor object and individual model layers can be used independently to exlore their workings. Tensor objects are extensions of `NumPy` and `CuPy` arrays. They can be used in a very similar way."
   ]
  },
  {
   "cell_type": "code",
   "execution_count": null,
   "metadata": {},
   "outputs": [],
   "source": [
    "# create a tensor from a list of lists\n",
    "a = Tensor([[4, 5, 6], [7, 8, 9]])\n",
    "print(f\"{a.shape=}\")\n",
    "print(f\"{a.dtype=}\")\n",
    "\n",
    "# define data types\n",
    "b = Tensor([1, 2, 3], dtype=\"int32\")\n",
    "print(f\"{b.shape=}\")\n",
    "print(f\"{b.dtype=}\")\n",
    "\n",
    "# change datatypes\n",
    "b = b.float()\n",
    "print(f\"{b.dtype=}\")\n",
    "\n",
    "# infer dtype automatically\n",
    "c = tensor([[4, 5, 6], [7, 8, 9]])\n",
    "print(f\"{c.dtype=}\")\n",
    "\n",
    "# define the device, a tensor is stored on\n",
    "d = Tensor([1, 2, 3], device=\"cuda\")\n",
    "print(f\"{d.device=}\")"
   ]
  },
  {
   "cell_type": "markdown",
   "metadata": {},
   "source": [
    "Tensor operations"
   ]
  },
  {
   "cell_type": "code",
   "execution_count": null,
   "metadata": {},
   "outputs": [],
   "source": [
    "# addition of tensors\n",
    "c = a + b\n",
    "\n",
    "# matrix multiplication of tensors\n",
    "d = a @ b\n",
    "\n",
    "# sum all elements of a tensor\n",
    "e = a.sum()"
   ]
  },
  {
   "attachments": {},
   "cell_type": "markdown",
   "metadata": {},
   "source": [
    "compyute offeres a variety of ways to initialize tensors (most of them have `NumPy` or `CuPy` counterparts)."
   ]
  },
  {
   "cell_type": "code",
   "execution_count": null,
   "metadata": {},
   "outputs": [],
   "source": [
    "X = cp.random_int((1, 1, 5, 5), 0, 10)\n",
    "W = cp.random_normal((3, 1, 3, 3))"
   ]
  },
  {
   "attachments": {},
   "cell_type": "markdown",
   "metadata": {},
   "source": [
    "### Layer objects\n",
    "Layer parameters can be assigned manually and used for a forward pass."
   ]
  },
  {
   "cell_type": "code",
   "execution_count": null,
   "metadata": {},
   "outputs": [],
   "source": [
    "import compyute.nn as nn\n",
    "\n",
    "conv = nn.layers.Convolution2d(in_channels=1, out_channels=3, weights=nn.Parameter(W), use_bias=False)\n",
    "conv.training = True  # tells the layer to define a backward function during the forward pass\n",
    "\n",
    "out = conv(X)  # forward pass\n",
    "out"
   ]
  },
  {
   "attachments": {},
   "cell_type": "markdown",
   "metadata": {},
   "source": [
    "The same goes for the backward pass. Here an output gradient is needed, before a backward pass can be performed."
   ]
  },
  {
   "cell_type": "code",
   "execution_count": null,
   "metadata": {},
   "outputs": [],
   "source": [
    "out.shape"
   ]
  },
  {
   "cell_type": "code",
   "execution_count": null,
   "metadata": {},
   "outputs": [],
   "source": [
    "y_grad = cp.random_normal(out.shape).data\n",
    "conv.backward(y_grad)  # backward pass"
   ]
  }
 ],
 "metadata": {
  "kernelspec": {
   "display_name": "Python 3",
   "language": "python",
   "name": "python3"
  },
  "language_info": {
   "codemirror_mode": {
    "name": "ipython",
    "version": 3
   },
   "file_extension": ".py",
   "mimetype": "text/x-python",
   "name": "python",
   "nbconvert_exporter": "python",
   "pygments_lexer": "ipython3",
   "version": "3.12.1"
  },
  "orig_nbformat": 4
 },
 "nbformat": 4,
 "nbformat_minor": 2
}
