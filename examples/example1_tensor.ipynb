{
 "cells": [
  {
   "cell_type": "markdown",
   "metadata": {},
   "source": [
    "# Example 1"
   ]
  },
  {
   "cell_type": "code",
   "execution_count": null,
   "metadata": {},
   "outputs": [],
   "source": [
    "import sys\n",
    "\n",
    "sys.path.append(\"..\")  # for sibling import\n",
    "\n",
    "import compyute as cp"
   ]
  },
  {
   "attachments": {},
   "cell_type": "markdown",
   "metadata": {},
   "source": [
    "### Tensor object\n",
    "This example shows how the Tensor object and individual model layers can be used independently to exlore their workings. Tensor objects are extensions of `NumPy` and `CuPy` arrays. They can be used in a very similar way."
   ]
  },
  {
   "cell_type": "code",
   "execution_count": null,
   "metadata": {},
   "outputs": [],
   "source": [
    "# create a tensor from a list of lists, the data type is inferred automatically\n",
    "a = cp.tensor([[4, 5, 6], [7, 8, 9], [10, 11, 12]])\n",
    "a"
   ]
  },
  {
   "cell_type": "code",
   "execution_count": null,
   "metadata": {},
   "outputs": [],
   "source": [
    "# define data types\n",
    "b = cp.tensor([1, 2, 3], dtype=\"int64\")\n",
    "print(f\"{b.dtype=}\")\n",
    "\n",
    "# change datatypes\n",
    "b = b.float()\n",
    "print(f\"{b.dtype=}\")\n",
    "\n",
    "# define the device, a tensor is stored on\n",
    "c = cp.tensor([1, 2, 3], device=\"cuda\")\n",
    "print(f\"{c.device=}\")\n",
    "\n",
    "# chante devices\n",
    "c = c.cpu()\n",
    "print(f\"{c.device=}\")"
   ]
  },
  {
   "cell_type": "markdown",
   "metadata": {},
   "source": [
    "Tensor operations"
   ]
  },
  {
   "cell_type": "code",
   "execution_count": null,
   "metadata": {},
   "outputs": [],
   "source": [
    "# addition of tensors\n",
    "d = a + b\n",
    "\n",
    "# matrix multiplication of tensors\n",
    "e = a @ b\n",
    "\n",
    "# sum all elements of a tensor\n",
    "f = a.sum()"
   ]
  },
  {
   "attachments": {},
   "cell_type": "markdown",
   "metadata": {},
   "source": [
    "compyute offeres a variety of ways to initialize tensors (most of them have `NumPy` or `CuPy` counterparts)."
   ]
  },
  {
   "cell_type": "code",
   "execution_count": null,
   "metadata": {},
   "outputs": [],
   "source": [
    "X = cp.random.uniform_int((1, 1, 5, 5), 0, 10)\n",
    "W = cp.random.normal((3, 1, 3, 3))"
   ]
  },
  {
   "attachments": {},
   "cell_type": "markdown",
   "metadata": {},
   "source": [
    "### Layer objects\n",
    "Layer parameters can be assigned manually and used for a forward pass."
   ]
  },
  {
   "cell_type": "code",
   "execution_count": null,
   "metadata": {},
   "outputs": [],
   "source": [
    "import compyute.nn as nn\n",
    "\n",
    "conv = nn.Convolution2d(in_channels=1, out_channels=3)\n",
    "conv.set_training(True)  # tells the layer to define a backward function during the forward pass\n",
    "\n",
    "out = conv(X)  # forward pass\n",
    "out"
   ]
  },
  {
   "attachments": {},
   "cell_type": "markdown",
   "metadata": {},
   "source": [
    "The same goes for the backward pass. Here an output gradient is needed, before a backward pass can be performed."
   ]
  },
  {
   "cell_type": "code",
   "execution_count": null,
   "metadata": {},
   "outputs": [],
   "source": [
    "out.shape"
   ]
  },
  {
   "cell_type": "code",
   "execution_count": null,
   "metadata": {},
   "outputs": [],
   "source": [
    "out_grad = cp.random.normal(out.shape)\n",
    "conv.backward(out_grad)  # backward pass"
   ]
  }
 ],
 "metadata": {
  "kernelspec": {
   "display_name": "Python 3",
   "language": "python",
   "name": "python3"
  },
  "language_info": {
   "codemirror_mode": {
    "name": "ipython",
    "version": 3
   },
   "file_extension": ".py",
   "mimetype": "text/x-python",
   "name": "python",
   "nbconvert_exporter": "python",
   "pygments_lexer": "ipython3",
   "version": "3.12.1"
  },
  "orig_nbformat": 4
 },
 "nbformat": 4,
 "nbformat_minor": 2
}
