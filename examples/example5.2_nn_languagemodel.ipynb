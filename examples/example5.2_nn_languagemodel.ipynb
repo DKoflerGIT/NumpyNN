{
 "cells": [
  {
   "cell_type": "code",
   "execution_count": null,
   "metadata": {},
   "outputs": [],
   "source": [
    "import compyute as cp"
   ]
  },
  {
   "cell_type": "code",
   "execution_count": null,
   "metadata": {},
   "outputs": [],
   "source": [
    "device = \"cuda\" if cp.engine.gpu_available() else \"cpu\"\n",
    "device"
   ]
  },
  {
   "cell_type": "markdown",
   "metadata": {},
   "source": [
    "# Example 5.2\n",
    "\n",
    "### Language Model: Neural network\n",
    "\n",
    "The bigram model is able to predict the following character by looking at the previous one. For better predictions it helps to not only consider one character for a prediction. In this example a neural network is used that uses multiple characters for predictions.\n",
    "\n",
    "### Step 1: Prepare data\n",
    "Like in the bigram model, the tinyshakespeare dataset is used. (https://raw.githubusercontent.com/karpathy/char-rnn/master/data/tinyshakespeare/input.txt)"
   ]
  },
  {
   "cell_type": "code",
   "execution_count": null,
   "metadata": {},
   "outputs": [],
   "source": [
    "with open(\"../data/tinyshakespeare.txt\", \"r\") as f:\n",
    "    data = f.read()[:100000]"
   ]
  },
  {
   "cell_type": "markdown",
   "metadata": {},
   "source": [
    "### Step 2: Tokenization\n",
    "\n",
    "This time, a Byte-Pair-Encoding tokenizer is used to allow for more information to be passed into the neural net without increasing the context size."
   ]
  },
  {
   "cell_type": "code",
   "execution_count": null,
   "metadata": {},
   "outputs": [],
   "source": [
    "from compyute.preprocessing.text import BPETokenizer\n",
    "\n",
    "tokenizer = BPETokenizer()"
   ]
  },
  {
   "cell_type": "code",
   "execution_count": null,
   "metadata": {},
   "outputs": [],
   "source": [
    "# train new tokenizer\n",
    "tokenizer.fit(data, vocab_size=1024)\n",
    "cp.save(tokenizer.get_state_dict(), \"tokenizer.cp\")"
   ]
  },
  {
   "cell_type": "code",
   "execution_count": null,
   "metadata": {},
   "outputs": [],
   "source": [
    "# load tokenizer\n",
    "tokenizer_state = cp.load(\"tokenizer.cp\")\n",
    "tokenizer.load_state_dict(tokenizer_state)"
   ]
  },
  {
   "cell_type": "code",
   "execution_count": null,
   "metadata": {},
   "outputs": [],
   "source": [
    "tokenizer.vocab_size"
   ]
  },
  {
   "cell_type": "code",
   "execution_count": null,
   "metadata": {},
   "outputs": [],
   "source": [
    "data_enc = tokenizer.encode(data)\n",
    "len(data_enc)"
   ]
  },
  {
   "cell_type": "markdown",
   "metadata": {},
   "source": [
    "### Step 3: Build dataset\n",
    "In this example a larger `block_size` is now used."
   ]
  },
  {
   "cell_type": "code",
   "execution_count": null,
   "metadata": {},
   "outputs": [],
   "source": [
    "block_size = 32"
   ]
  },
  {
   "cell_type": "code",
   "execution_count": null,
   "metadata": {},
   "outputs": [],
   "source": [
    "X = cp.stack([data_enc[i * block_size : i * block_size + block_size] for i in range(len(data_enc) // block_size)])\n",
    "y = cp.stack([data_enc[i * block_size + block_size] for i in range(len(data_enc) // block_size)])\n",
    "\n",
    "X, idx = cp.random.shuffle(X)\n",
    "y = y[idx]\n",
    "\n",
    "n = int(len(X) * 0.90)\n",
    "\n",
    "X_train = X.to_int()[:n]\n",
    "y_train = y.to_int()[:n]\n",
    "X_val = X.to_int()[n:]\n",
    "y_val = y.to_int()[n:]\n",
    "\n",
    "print(f\"{X_train.shape=}\")\n",
    "print(f\"{y_train.shape=}\")\n",
    "print(f\"{X_val.shape=}\")\n",
    "print(f\"{y_val.shape=}\")"
   ]
  },
  {
   "cell_type": "markdown",
   "metadata": {},
   "source": [
    "### Step 4: Build the neural network structure\n",
    "\n",
    "As our first layer, again, an `Embedding` layer is used. It is followed by a stack of linear layers."
   ]
  },
  {
   "cell_type": "code",
   "execution_count": null,
   "metadata": {},
   "outputs": [],
   "source": [
    "import compyute.nn as nn\n",
    "\n",
    "vocab_size = tokenizer.vocab_size\n",
    "embed_dims = 10\n",
    "n_hidden = 128\n",
    "\n",
    "model = nn.Sequential(\n",
    "    nn.Embedding(vocab_size, embed_dims),\n",
    "    nn.Flatten(),\n",
    "    nn.DenseBlock(block_size*embed_dims, n_hidden, activation=\"tanh\", weight_init=\"kaiming_normal\"),\n",
    "    nn.DenseBlock(n_hidden, n_hidden, activation=\"tanh\", weight_init=\"kaiming_normal\"),\n",
    "    nn.DenseBlock(n_hidden, n_hidden, activation=\"tanh\", weight_init=\"kaiming_normal\"),\n",
    "    nn.DenseBlock(n_hidden, n_hidden, activation=\"tanh\", weight_init=\"kaiming_normal\"),\n",
    "    nn.DenseBlock(n_hidden, n_hidden, activation=\"tanh\", weight_init=\"kaiming_normal\"),\n",
    "    nn.Linear(n_hidden, vocab_size)\n",
    ")\n",
    "model.to_device(device)"
   ]
  },
  {
   "cell_type": "code",
   "execution_count": null,
   "metadata": {},
   "outputs": [],
   "source": [
    "summary = cp.nn.utils.get_module_summary(model, input_shape=(block_size,), input_dtype=\"int32\")\n",
    "print(summary)"
   ]
  },
  {
   "cell_type": "markdown",
   "metadata": {},
   "source": [
    "### Step 5: Train the model\n",
    "\n",
    "To avoid overfitting the model, the `EarlyStopping`-Callback can be used."
   ]
  },
  {
   "cell_type": "code",
   "execution_count": null,
   "metadata": {},
   "outputs": [],
   "source": [
    "from compyute.nn import losses, metrics, optimizers\n",
    "from compyute.nn.trainer import Trainer\n",
    "from compyute.nn.trainer.callbacks import History, ProgressBar\n",
    "\n",
    "history = History()\n",
    "\n",
    "trainer = Trainer(\n",
    "    model=model,\n",
    "    optimizer=optimizers.Adam(),\n",
    "    loss=losses.CrossEntropy(),\n",
    "    metric=metrics.Accuracy(),\n",
    "    callbacks=[history,ProgressBar()]\n",
    ")"
   ]
  },
  {
   "cell_type": "code",
   "execution_count": null,
   "metadata": {},
   "outputs": [],
   "source": [
    "with model.retain_values():\n",
    "    trainer.train(X_train, y_train, epochs=1, val_data=(X_val, y_val), batch_size=32)"
   ]
  },
  {
   "cell_type": "markdown",
   "metadata": {},
   "source": [
    "### Step 6: Analyze the model\n",
    "Usind different plots, the models performance and training behaviour can be analyzed (eg. checking for overfitting)"
   ]
  },
  {
   "cell_type": "code",
   "execution_count": null,
   "metadata": {},
   "outputs": [],
   "source": [
    "# !pip install matplotlib"
   ]
  },
  {
   "cell_type": "code",
   "execution_count": null,
   "metadata": {},
   "outputs": [],
   "source": [
    "import matplotlib.pyplot as plt\n",
    "\n",
    "def plot_distrbution(ys):\n",
    "    plt.figure(figsize=(20, 4))\n",
    "    legends = []\n",
    "    for y in ys:\n",
    "        label, tensor = y\n",
    "        mean = cp.mean(tensor).item()\n",
    "        std = cp.std(tensor).item()\n",
    "        print(f\"{label:10s} | mean {mean:9.4f} | std {std:9.4f}\")\n",
    "        y_vals, x_vals = cp.histogram(tensor, bins=n_hidden, density=True)\n",
    "        plt.plot(x_vals[:-1], y_vals, linewidth=1)\n",
    "        legends.append(f\"{label:s}\")\n",
    "    plt.legend(legends)"
   ]
  },
  {
   "cell_type": "markdown",
   "metadata": {},
   "source": [
    "##### Weights"
   ]
  },
  {
   "cell_type": "code",
   "execution_count": null,
   "metadata": {},
   "outputs": [],
   "source": [
    "lin_weights = [(str(i), p.to_cpu()) for i, p in enumerate(model.get_parameters()) if p.n_axes > 1]\n",
    "plot_distrbution(lin_weights)"
   ]
  },
  {
   "cell_type": "markdown",
   "metadata": {},
   "source": [
    "##### Activations"
   ]
  },
  {
   "cell_type": "code",
   "execution_count": null,
   "metadata": {},
   "outputs": [],
   "source": [
    "tanh_activations = [\n",
    "    (f\"{l.label}{i}\", l.y.to_cpu())\n",
    "    for i, l in enumerate(model.modules[:-1])\n",
    "    if l.label == \"DenseBlock\"\n",
    "]\n",
    "plot_distrbution(tanh_activations)"
   ]
  },
  {
   "cell_type": "code",
   "execution_count": null,
   "metadata": {},
   "outputs": [],
   "source": [
    "tanh_saturations = [\n",
    "    (f\"{l.label}{i}\", cp.abs(l.y.to_cpu()) > 0.99)\n",
    "    for i, l in enumerate(model.modules)\n",
    "    if l.label == \"DenseBlock\"\n",
    "]\n",
    "\n",
    "for label, image in tanh_saturations:\n",
    "    plt.imshow(image, cmap=\"gray\")\n",
    "    plt.xlabel(label)\n",
    "    plt.tick_params(left=False, bottom=False, labelleft=False, labelbottom=False)\n",
    "    plt.show()"
   ]
  },
  {
   "cell_type": "markdown",
   "metadata": {},
   "source": [
    "As mentioned, the gradient of saturated neurons get very close to zero. If that happens for all batches, then the neuron is not learning and it is considererd dead (white pixels in the plot)."
   ]
  },
  {
   "cell_type": "markdown",
   "metadata": {},
   "source": [
    "##### Gradients"
   ]
  },
  {
   "cell_type": "code",
   "execution_count": null,
   "metadata": {},
   "outputs": [],
   "source": [
    "lin_weight_grads = [(str(i), p.grad.to_cpu()) for i, p in enumerate(model.get_parameters()) if p.n_axes > 1]\n",
    "plot_distrbution(lin_weight_grads)"
   ]
  },
  {
   "cell_type": "code",
   "execution_count": null,
   "metadata": {},
   "outputs": [],
   "source": [
    "activation_gradients = [\n",
    "    (f\"{l.label}{i}\", l.y.grad)\n",
    "    for i, l in enumerate(model.modules[:-1])\n",
    "    if l.label == \"DenseBlock\"\n",
    "]\n",
    "plot_distrbution(activation_gradients)"
   ]
  }
 ],
 "metadata": {
  "kernelspec": {
   "display_name": "Python 3",
   "language": "python",
   "name": "python3"
  },
  "language_info": {
   "codemirror_mode": {
    "name": "ipython",
    "version": 3
   },
   "file_extension": ".py",
   "mimetype": "text/x-python",
   "name": "python",
   "nbconvert_exporter": "python",
   "pygments_lexer": "ipython3",
   "version": "3.11.2"
  },
  "orig_nbformat": 4
 },
 "nbformat": 4,
 "nbformat_minor": 2
}
