{
 "cells": [
  {
   "attachments": {},
   "cell_type": "markdown",
   "metadata": {},
   "source": [
    "# Example 2\n",
    "### Linear Regression\n",
    "Here input and target values are defined. Currently, the model requires a minimum input dim of 2."
   ]
  },
  {
   "cell_type": "code",
   "execution_count": null,
   "metadata": {},
   "outputs": [],
   "source": [
    "import sys\n",
    "sys.path.append(\"..\") # for sibling import\n",
    "\n",
    "import compyute as cp"
   ]
  },
  {
   "cell_type": "code",
   "execution_count": null,
   "metadata": {},
   "outputs": [],
   "source": [
    "X = cp.Tensor([-1, 0, 1, 2, 3, 4])\n",
    "X = cp.expand_dims(X, -1) # input must be dim 2\n",
    "\n",
    "y = cp.Tensor([-3, -1, 1, 3, 5, 7])\n",
    "y = cp.expand_dims(y, -1) # output must be dim 2"
   ]
  },
  {
   "attachments": {},
   "cell_type": "markdown",
   "metadata": {},
   "source": [
    "The model is defined using one linear layer with one input (`in_channels=1`) and one output (`out_channels=1`).\n",
    "The goal of the model is to learn a linear function that best resembles the input data. A linear function in one imput dimension is given by $ y = a \\cdot x + b $.<br>\n",
    "Internally, $a$ is represented by a *weight* value and $ b $ by a *bias* value, both of which shall be learned by the model during the training process."
   ]
  },
  {
   "cell_type": "code",
   "execution_count": null,
   "metadata": {},
   "outputs": [],
   "source": [
    "model = cp.nn.Sequential([cp.nn.layers.Linear(in_channels=1, out_channels=1)])"
   ]
  },
  {
   "cell_type": "markdown",
   "metadata": {},
   "source": [
    "To train and evaluate evaluate the model a loss function (here the mean squared error) is used. After computing the loss and gradients, an optimizer is used to update the model parameters in order to  improve the next prediction."
   ]
  },
  {
   "cell_type": "code",
   "execution_count": null,
   "metadata": {},
   "outputs": [],
   "source": [
    "model.compile(\n",
    "    optimizer=cp.nn.optimizers.SGD(),\n",
    "    loss_fn=cp.nn.losses.MSE(),\n",
    "    metric_fn=cp.nn.metrics.r2score\n",
    ")\n",
    "model"
   ]
  },
  {
   "attachments": {},
   "cell_type": "markdown",
   "metadata": {},
   "source": [
    "The model can then be trained iteratively using input and target values."
   ]
  },
  {
   "cell_type": "code",
   "execution_count": null,
   "metadata": {},
   "outputs": [],
   "source": [
    "_ = model.train(X, y, epochs=1000, verbose=False)"
   ]
  },
  {
   "cell_type": "code",
   "execution_count": null,
   "metadata": {},
   "outputs": [],
   "source": [
    "model.sub_modules[0].sub_modules[0]"
   ]
  },
  {
   "attachments": {},
   "cell_type": "markdown",
   "metadata": {},
   "source": [
    "After training the model, it can be used to make predictions."
   ]
  },
  {
   "cell_type": "code",
   "execution_count": null,
   "metadata": {},
   "outputs": [],
   "source": [
    "sample = cp.Tensor([[10]])\n",
    "prediction = model(sample)\n",
    "print(f\"{prediction.item():.2f}\")"
   ]
  },
  {
   "cell_type": "markdown",
   "metadata": {},
   "source": [
    "Here is the linear function the model learned"
   ]
  },
  {
   "cell_type": "code",
   "execution_count": null,
   "metadata": {},
   "outputs": [],
   "source": [
    "import matplotlib.pyplot as plt\n",
    "\n",
    "b = model(cp.Tensor([[0]])).item()\n",
    "a = model(cp.Tensor([[1]])).item() - b\n",
    "print(f\"linear function learned:\\ny = {a:.2f} * x + {b:.2f}\")\n",
    "\n",
    "x_sample = cp.expand_dims(cp.arange(6, -2), -1)\n",
    "y_sample = model(x_sample)\n",
    "plt.plot(x_sample.data, y_sample.data, c=\"k\", linestyle='dashed', linewidth=1) # linear function learned\n",
    "plt.scatter(X.data, y.data, c=\"g\", alpha=0.5) # training data\n",
    "plt.grid(linewidth = 0.5, linestyle = \"dashed\")\n",
    "plt.xlabel(\"X\")\n",
    "plt.ylabel(\"Y\")"
   ]
  },
  {
   "cell_type": "markdown",
   "metadata": {},
   "source": [
    "Models can also be saved"
   ]
  },
  {
   "cell_type": "code",
   "execution_count": null,
   "metadata": {},
   "outputs": [],
   "source": [
    "cp.nn.save_model(model, \"linear_regression_model.cp\")"
   ]
  },
  {
   "cell_type": "markdown",
   "metadata": {},
   "source": [
    "... and loaded"
   ]
  },
  {
   "cell_type": "code",
   "execution_count": null,
   "metadata": {},
   "outputs": [],
   "source": [
    "import sys\n",
    "sys.path.append(\"..\") # for sibling import\n",
    "\n",
    "import compyute as cp\n",
    "\n",
    "loaded_model = cp.nn.load_model(\"linear_regression_model.cp\")"
   ]
  },
  {
   "cell_type": "code",
   "execution_count": null,
   "metadata": {},
   "outputs": [],
   "source": [
    "sample = cp.Tensor([[9]])\n",
    "prediction = loaded_model(sample).item()\n",
    "print(f\"{prediction:.2f}\")"
   ]
  }
 ],
 "metadata": {
  "kernelspec": {
   "display_name": "Python 3",
   "language": "python",
   "name": "python3"
  },
  "language_info": {
   "codemirror_mode": {
    "name": "ipython",
    "version": 3
   },
   "file_extension": ".py",
   "mimetype": "text/x-python",
   "name": "python",
   "nbconvert_exporter": "python",
   "pygments_lexer": "ipython3",
   "version": "3.12.1"
  },
  "orig_nbformat": 4
 },
 "nbformat": 4,
 "nbformat_minor": 2
}
