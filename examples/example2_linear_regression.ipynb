{
 "cells": [
  {
   "attachments": {},
   "cell_type": "markdown",
   "metadata": {},
   "source": [
    "# Example 2\n",
    "### Linear Regression\n",
    "Here input and target values are defined. The model requires a minimum input dim of 2."
   ]
  },
  {
   "cell_type": "code",
   "execution_count": 1,
   "metadata": {},
   "outputs": [],
   "source": [
    "import compyute as cp"
   ]
  },
  {
   "cell_type": "code",
   "execution_count": 2,
   "metadata": {},
   "outputs": [],
   "source": [
    "X = cp.tensor([-1, 0, 1, 2, 3, 4])\n",
    "X = X[:, None]  # input must be dim 2\n",
    "\n",
    "y = cp.tensor([-3, -1, 1, 3, 5, 7])\n",
    "y = y[:, None]  # output must be dim 2"
   ]
  },
  {
   "attachments": {},
   "cell_type": "markdown",
   "metadata": {},
   "source": [
    "The model is defined using one linear layer with one input (`in_channels=1`) and one output (`out_channels=1`).\n",
    "The goal of the model is to learn a linear function that best resembles the input data. A linear function in one imput dimension is given by $ y = a \\cdot x + b $.<br>\n",
    "Internally, $a$ is represented by a *weight* value and $ b $ by a *bias* value, both of which shall be learned by the model during the training process."
   ]
  },
  {
   "cell_type": "code",
   "execution_count": 3,
   "metadata": {},
   "outputs": [],
   "source": [
    "import compyute.nn as nn\n",
    "\n",
    "model = nn.Linear(in_channels=1, out_channels=1)"
   ]
  },
  {
   "cell_type": "markdown",
   "metadata": {},
   "source": [
    "To train and evaluate evaluate the model a loss function (here the mean squared error) is used. After computing the loss and gradients, an optimizer is used to update the model parameters in order to  improve the next prediction."
   ]
  },
  {
   "cell_type": "code",
   "execution_count": 4,
   "metadata": {},
   "outputs": [],
   "source": [
    "from compyute.nn.trainer import Trainer\n",
    "\n",
    "trainer = Trainer(model=model, optimizer=\"sgd\", loss=\"mean_squared_error\", metric=\"r2\")"
   ]
  },
  {
   "attachments": {},
   "cell_type": "markdown",
   "metadata": {},
   "source": [
    "The model can then be trained iteratively using input and target values."
   ]
  },
  {
   "cell_type": "code",
   "execution_count": 5,
   "metadata": {},
   "outputs": [],
   "source": [
    "trainer.train(X, y, epochs=10000, batch_size=len(X))"
   ]
  },
  {
   "attachments": {},
   "cell_type": "markdown",
   "metadata": {},
   "source": [
    "After training the model, it can be used to make predictions."
   ]
  },
  {
   "cell_type": "code",
   "execution_count": 6,
   "metadata": {},
   "outputs": [
    {
     "name": "stdout",
     "output_type": "stream",
     "text": [
      "19.00\n"
     ]
    }
   ],
   "source": [
    "sample = cp.tensor([[10]])\n",
    "prediction = model(sample)\n",
    "print(f\"{prediction.item():.2f}\")"
   ]
  },
  {
   "cell_type": "markdown",
   "metadata": {},
   "source": [
    "Here is the linear function the model learned"
   ]
  },
  {
   "cell_type": "code",
   "execution_count": 7,
   "metadata": {},
   "outputs": [],
   "source": [
    "# ! pip install matplotlib"
   ]
  },
  {
   "cell_type": "code",
   "execution_count": 8,
   "metadata": {},
   "outputs": [
    {
     "name": "stdout",
     "output_type": "stream",
     "text": [
      "linear function learned:\n",
      "y = 2.00 * x + -1.00\n"
     ]
    },
    {
     "data": {
      "text/plain": [
       "<matplotlib.collections.PathCollection at 0x19be7415b90>"
      ]
     },
     "execution_count": 8,
     "metadata": {},
     "output_type": "execute_result"
    },
    {
     "data": {
      "image/png": "[encoded data removed]",
      "text/plain": [
       "<Figure size 640x480 with 1 Axes>"
      ]
     },
     "metadata": {},
     "output_type": "display_data"
    }
   ],
   "source": [
    "import matplotlib.pyplot as plt\n",
    "\n",
    "w = model.w.item()\n",
    "b = model.b.item()\n",
    "print(f\"linear function learned:\\ny = {w:.2f} * x + {b:.2f}\")\n",
    "\n",
    "x_sample = cp.arange(6, -2)[:, None]\n",
    "y_sample = model(x_sample)\n",
    "\n",
    "plt.plot(x_sample, y_sample, c=\"k\", linestyle=\"dashed\", linewidth=1)\n",
    "plt.scatter(X, y, c=\"r\", alpha=0.5)  # training data"
   ]
  },
  {
   "cell_type": "markdown",
   "metadata": {},
   "source": [
    "Models can also be saved"
   ]
  },
  {
   "cell_type": "code",
   "execution_count": 9,
   "metadata": {},
   "outputs": [],
   "source": [
    "nn.save_module(model, \"linear_regression_model.cp\")"
   ]
  },
  {
   "cell_type": "markdown",
   "metadata": {},
   "source": [
    "... and loaded"
   ]
  },
  {
   "cell_type": "code",
   "execution_count": 10,
   "metadata": {},
   "outputs": [],
   "source": [
    "import compyute.nn as nn\n",
    "\n",
    "loaded_model = nn.load_module(\"linear_regression_model.cp\")"
   ]
  },
  {
   "cell_type": "code",
   "execution_count": 11,
   "metadata": {},
   "outputs": [
    {
     "name": "stdout",
     "output_type": "stream",
     "text": [
      "17.00\n"
     ]
    }
   ],
   "source": [
    "import compyute as cp\n",
    "\n",
    "sample = cp.tensor([[9]])\n",
    "prediction = loaded_model(sample).item()\n",
    "print(f\"{prediction:.2f}\")"
   ]
  }
 ],
 "metadata": {
  "kernelspec": {
   "display_name": "Python 3",
   "language": "python",
   "name": "python3"
  },
  "language_info": {
   "codemirror_mode": {
    "name": "ipython",
    "version": 3
   },
   "file_extension": ".py",
   "mimetype": "text/x-python",
   "name": "python",
   "nbconvert_exporter": "python",
   "pygments_lexer": "ipython3",
   "version": "3.11.9"
  },
  "orig_nbformat": 4
 },
 "nbformat": 4,
 "nbformat_minor": 2
}
