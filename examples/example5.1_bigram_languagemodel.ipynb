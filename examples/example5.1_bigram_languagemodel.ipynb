{
 "cells": [
  {
   "cell_type": "code",
   "execution_count": null,
   "metadata": {},
   "outputs": [],
   "source": [
    "import sys\n",
    "sys.path.append(\"..\") # for sibling import\n",
    "\n",
    "import compyute as cp"
   ]
  },
  {
   "cell_type": "markdown",
   "metadata": {},
   "source": [
    "# Example 5.1\n",
    "\n",
    "### Language Model: Bigram model\n",
    "\n",
    "The goal of this model is to be able to generate text that is similar to the training data using a single character to predict the next one.\n",
    "\n",
    "### Step 1: Prepare data\n",
    "The dataset can be downloaded from https://raw.githubusercontent.com/karpathy/char-rnn/master/data/tinyshakespeare/input.txt. Afterwards, it needs to be placed it into the */data* directory."
   ]
  },
  {
   "cell_type": "code",
   "execution_count": null,
   "metadata": {},
   "outputs": [],
   "source": [
    "with open(\"../data/tinyshakespeare.txt\", \"r\") as f:\n",
    "    data = f.read()"
   ]
  },
  {
   "cell_type": "markdown",
   "metadata": {},
   "source": [
    "### Step 2: Tokenization\n",
    "To train a neural network on text, it needs to be represented by numerical values. For this reason a tokenizer is used. To build a vocabulary of tokens, here the `CharacterTokenizer` is used."
   ]
  },
  {
   "cell_type": "code",
   "execution_count": null,
   "metadata": {},
   "outputs": [],
   "source": [
    "from compyute.preprocessing.text import CharacterTokenizer\n",
    "\n",
    "tknzr = CharacterTokenizer()\n",
    "tknzr.vocab_size"
   ]
  },
  {
   "cell_type": "markdown",
   "metadata": {},
   "source": [
    "Every character is assigned an integer token."
   ]
  },
  {
   "cell_type": "code",
   "execution_count": null,
   "metadata": {},
   "outputs": [],
   "source": [
    "tknzr.vocab"
   ]
  },
  {
   "cell_type": "markdown",
   "metadata": {},
   "source": [
    "Tokenizers can be used to encode text and decode token ids. Here, the string \"Hello World!\" is encoded and afterwards represented by the respective token ids."
   ]
  },
  {
   "cell_type": "code",
   "execution_count": null,
   "metadata": {},
   "outputs": [],
   "source": [
    "string = \"Hello World!\"\n",
    "encoded_string = tknzr.encode(string)\n",
    "encoded_string"
   ]
  },
  {
   "cell_type": "markdown",
   "metadata": {},
   "source": [
    "A tensor of token ids can also be decoded again to get the original text."
   ]
  },
  {
   "cell_type": "code",
   "execution_count": null,
   "metadata": {},
   "outputs": [],
   "source": [
    "[tknzr.decode([i]) for i in encoded_string]"
   ]
  },
  {
   "cell_type": "code",
   "execution_count": null,
   "metadata": {},
   "outputs": [],
   "source": [
    "tknzr.decode(encoded_string)"
   ]
  },
  {
   "cell_type": "markdown",
   "metadata": {},
   "source": [
    "To use the data to train a model, it needs to be encoded."
   ]
  },
  {
   "cell_type": "code",
   "execution_count": null,
   "metadata": {},
   "outputs": [],
   "source": [
    "data_enc = tknzr.encode(data)\n",
    "data_enc[:20]"
   ]
  },
  {
   "cell_type": "markdown",
   "metadata": {},
   "source": [
    "### Step 3: Build dataset\n",
    "Next up, we need to build the training dataset. `num_samples` represents the number of samples for the neural network. `block_size` defines how many characters are considered when trying to predict the following one. Since this is a bigram model, only one character is considered."
   ]
  },
  {
   "cell_type": "code",
   "execution_count": null,
   "metadata": {},
   "outputs": [],
   "source": [
    "num_samples = 100000\n",
    "block_size = 1"
   ]
  },
  {
   "cell_type": "markdown",
   "metadata": {},
   "source": [
    "To create a dataset, samples are taken from the data by randomly selecting a character as an input and the following character as the target."
   ]
  },
  {
   "cell_type": "code",
   "execution_count": null,
   "metadata": {},
   "outputs": [],
   "source": [
    "# initialize tensors with zeros\n",
    "X = cp.zeros((num_samples, block_size))\n",
    "y = cp.zeros((num_samples, block_size))\n",
    "\n",
    "#randomly choose indices of blocks in the original data\n",
    "rand_indices = cp.random.uniform_int((num_samples,), 0, len(data) - block_size - 1)\n",
    "\n",
    "for i, index in enumerate(rand_indices):\n",
    "    # get characters and the label from the data\n",
    "    context = data_enc[index : index + block_size]\n",
    "    label = data_enc[index + 1 : index + block_size + 1]\n",
    "\n",
    "    # one-hot-encode indices and add to the tensors\n",
    "    X[i] = context\n",
    "    y[i] = label\n",
    "\n",
    "X_train = X.astype(\"int32\")\n",
    "y_train = y.astype(\"int32\")[:, -1]\n",
    "\n",
    "print(f\"{X_train.shape=}\")\n",
    "print(f\"{y_train.shape=}\")"
   ]
  },
  {
   "cell_type": "markdown",
   "metadata": {},
   "source": [
    "### Step 4: Build the neural network structure\n",
    "\n",
    "An `Embedding` layer is used to assign each token an n-dimensional vector. The vector's components are then learned and updated during the training process."
   ]
  },
  {
   "cell_type": "code",
   "execution_count": null,
   "metadata": {},
   "outputs": [],
   "source": [
    "import compyute.nn as nn\n",
    "from compyute.nn.layers import *\n",
    "\n",
    "vocab_size = tknzr.vocab_size\n",
    "\n",
    "model = nn.SequentialModel([\n",
    "    Embedding(vocab_size, vocab_size),\n",
    "    Flatten()\n",
    "])"
   ]
  },
  {
   "cell_type": "code",
   "execution_count": null,
   "metadata": {},
   "outputs": [],
   "source": [
    "nn.models.model_summary(model, (block_size,), \"int32\")"
   ]
  },
  {
   "cell_type": "markdown",
   "metadata": {},
   "source": [
    "### Step 5: Train the model\n",
    "\n",
    "Since there are usually quite a large number of classes (=tokens) in language models, the training process can be slower."
   ]
  },
  {
   "cell_type": "code",
   "execution_count": null,
   "metadata": {},
   "outputs": [],
   "source": [
    "from compyute.nn.trainer import Trainer\n",
    "from compyute.nn.trainer.optimizers import AdamW\n",
    "from compyute.nn.trainer.losses import Crossentropy\n",
    "from compyute.nn.trainer.metrics import Accuracy\n",
    "\n",
    "trainer = Trainer(\n",
    "    model=model,\n",
    "    optimizer=AdamW(lr=1e-2),\n",
    "    loss_functon=Crossentropy(),\n",
    "    metric_function=Accuracy(),\n",
    ")"
   ]
  },
  {
   "cell_type": "code",
   "execution_count": null,
   "metadata": {},
   "outputs": [],
   "source": [
    "epochs = 1\n",
    "batch_size = 32\n",
    "\n",
    "_ = trainer.train(X_train, y_train, epochs=epochs, batch_size=batch_size)"
   ]
  },
  {
   "cell_type": "markdown",
   "metadata": {},
   "source": [
    "### Step 6: Analyze Results"
   ]
  },
  {
   "cell_type": "code",
   "execution_count": null,
   "metadata": {},
   "outputs": [],
   "source": [
    "# !pip install scikit-learn matplotlib"
   ]
  },
  {
   "cell_type": "code",
   "execution_count": null,
   "metadata": {},
   "outputs": [],
   "source": [
    "from sklearn.manifold import TSNE\n",
    "import matplotlib.pyplot as plt\n",
    "\n",
    "# get numpy array of embedding table\n",
    "embs = model.child_modules[0].child_modules[0].w.cpu().data\n",
    "\n",
    "# reduce dimensions to 2 to make\n",
    "tsne = TSNE(random_state=0).fit_transform(embs)\n",
    "\n",
    "# plot results\n",
    "plt.figure(figsize=(8, 8))\n",
    "plt.scatter(x=tsne[:,0], y=tsne[:,1], alpha=0.5, s=100)\n",
    "plt.axis(\"off\")\n",
    "for i in range(len(tsne)):\n",
    "    char = tknzr.decode(cp.Tensor([i]))\n",
    "    plt.text(x=tsne[i,0]-0.1, y=tsne[i,1]-0.15, s=char)"
   ]
  },
  {
   "cell_type": "markdown",
   "metadata": {},
   "source": [
    "### Step 7: Generate text\n",
    "To see the model in action, it is given a starting character (here token 1). Then it is used to generate $n$ characters using previous charactes as input. The better the model is trained, the more sensical the output will be. This can take quite a lot of training though."
   ]
  },
  {
   "cell_type": "code",
   "execution_count": null,
   "metadata": {},
   "outputs": [],
   "source": [
    "from compyute.nn.funcional import softmax\n",
    "\n",
    "context = cp.ones((1, block_size,)).int() # use 1 as startig context\n",
    "n = 1000\n",
    "\n",
    "for _ in range(n):\n",
    "    pred = model(context).squeeze() # predict following character using the current context\n",
    "    index = cp.random.multinomial(\n",
    "        x=pred.shape[-1],\n",
    "        p=softmax(pred),\n",
    "        shape=(1,)\n",
    "    ) # choose a character from prediction\n",
    "    print(tknzr.decode([index.item()]), end=\"\")\n",
    "    context = context.append(index[None, :], axis=1).int() # append predicted character to context\n",
    "    context = context[:, 1:] # set new context"
   ]
  }
 ],
 "metadata": {
  "kernelspec": {
   "display_name": "Python 3",
   "language": "python",
   "name": "python3"
  },
  "language_info": {
   "codemirror_mode": {
    "name": "ipython",
    "version": 3
   },
   "file_extension": ".py",
   "mimetype": "text/x-python",
   "name": "python",
   "nbconvert_exporter": "python",
   "pygments_lexer": "ipython3",
   "version": "3.12.1"
  },
  "orig_nbformat": 4
 },
 "nbformat": 4,
 "nbformat_minor": 2
}
