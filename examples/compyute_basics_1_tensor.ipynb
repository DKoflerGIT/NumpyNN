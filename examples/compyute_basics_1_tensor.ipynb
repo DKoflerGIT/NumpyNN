{
 "cells": [
  {
   "cell_type": "markdown",
   "metadata": {},
   "source": [
    "# Compyute Tensors"
   ]
  },
  {
   "cell_type": "code",
   "execution_count": null,
   "metadata": {},
   "outputs": [],
   "source": [
    "import compyute as cp"
   ]
  },
  {
   "attachments": {},
   "cell_type": "markdown",
   "metadata": {},
   "source": [
    "## Creating Tensors, data types and devices\n",
    "\n",
    "`Tensor`s are more or less glorified wrappers around `NumPy` or `CuPy` arrays. They can be used in a very similar way to `NumPy` arrays. A `Tensor` can be created from a wide range of objects, including lists, tuples, `NumPy` arrays and `CuPy` arrays. If not specified, the data type (`dtype`) and device (`device`) will be inferred from the input data."
   ]
  },
  {
   "cell_type": "code",
   "execution_count": null,
   "metadata": {},
   "outputs": [],
   "source": [
    "a = cp.tensor([[4, 5, 6], [7, 8, 9], [10, 11, 12]])\n",
    "print(a)\n",
    "print(f\"{a.shape=}\")\n",
    "print(f\"{a.dtype=}\")\n",
    "print(f\"{a.device=}\")"
   ]
  },
  {
   "cell_type": "markdown",
   "metadata": {},
   "source": [
    "You can specifiy the data type ..."
   ]
  },
  {
   "cell_type": "code",
   "execution_count": null,
   "metadata": {},
   "outputs": [],
   "source": [
    "b = cp.tensor([1, 2, 3], dtype=cp.int32)\n",
    "print(f\"{b.dtype=}\")"
   ]
  },
  {
   "cell_type": "markdown",
   "metadata": {},
   "source": [
    "... or change it later on."
   ]
  },
  {
   "cell_type": "code",
   "execution_count": null,
   "metadata": {},
   "outputs": [],
   "source": [
    "a = a.to_type(cp.float64)\n",
    "b = b.to_float()\n",
    "print(f\"{a.dtype=}\")\n",
    "print(f\"{b.dtype=}\")"
   ]
  },
  {
   "cell_type": "markdown",
   "metadata": {},
   "source": [
    "The tensor data is stored on either the CPU or GPU. By default, a `Tensor` will be created on the CPU. You can specifiy the device when creating a tensor ..."
   ]
  },
  {
   "cell_type": "code",
   "execution_count": null,
   "metadata": {},
   "outputs": [],
   "source": [
    "c = cp.tensor([1, 2, 3])\n",
    "d = cp.tensor([1, 2, 3], device=cp.cuda)\n",
    "print(f\"{c.device=}\")\n",
    "print(f\"{d.device=}\")"
   ]
  },
  {
   "cell_type": "markdown",
   "metadata": {},
   "source": [
    "... and also move the data between devices later on."
   ]
  },
  {
   "cell_type": "code",
   "execution_count": null,
   "metadata": {},
   "outputs": [],
   "source": [
    "c = c.to_device(cp.cuda)\n",
    "f = c.to_cpu()\n",
    "print(f\"{c.device=}\")\n",
    "print(f\"{f.device=}\")"
   ]
  },
  {
   "cell_type": "markdown",
   "metadata": {},
   "source": [
    "## Tensor operations\n",
    "\n",
    "Most operations known from ``NumPy` can also be used with tensors."
   ]
  },
  {
   "cell_type": "code",
   "execution_count": null,
   "metadata": {},
   "outputs": [],
   "source": [
    "# addition of tensors\n",
    "d = a + b\n",
    "print(d)\n",
    "\n",
    "# matrix multiplication of tensors\n",
    "e = a @ b\n",
    "print(e)\n",
    "\n",
    "# sum all elements of a tensor\n",
    "f = cp.sum(d)\n",
    "print(f)\n",
    "\n",
    "# transpose\n",
    "g = a.T\n",
    "print(g)"
   ]
  },
  {
   "attachments": {},
   "cell_type": "markdown",
   "metadata": {},
   "source": [
    "#### Creating prefilled Tensors\n",
    "\n",
    "Compyute offeres a variety of ways to initialize tensors (again, most of them have `NumPy` or `CuPy` counterparts)."
   ]
  },
  {
   "cell_type": "code",
   "execution_count": null,
   "metadata": {},
   "outputs": [],
   "source": [
    "# create a tensor with all ones\n",
    "B = cp.ones((5, 5))\n",
    "print(B)\n",
    "\n",
    "# create a tensor with integer values drawn from a uniform distribution\n",
    "X = cp.random.uniform_int((5, 5), 0, 10)\n",
    "print(X)\n",
    "\n",
    "# create a tensor with real values drawn from a normal distribution\n",
    "W = cp.random.normal((3, 3))\n",
    "print(W)"
   ]
  }
 ],
 "metadata": {
  "kernelspec": {
   "display_name": "Python 3",
   "language": "python",
   "name": "python3"
  },
  "language_info": {
   "codemirror_mode": {
    "name": "ipython",
    "version": 3
   },
   "file_extension": ".py",
   "mimetype": "text/x-python",
   "name": "python",
   "nbconvert_exporter": "python",
   "pygments_lexer": "ipython3",
   "version": "3.12.8"
  },
  "orig_nbformat": 4
 },
 "nbformat": 4,
 "nbformat_minor": 2
}
