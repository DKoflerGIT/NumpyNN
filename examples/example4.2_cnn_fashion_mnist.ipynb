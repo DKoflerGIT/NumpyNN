{
 "cells": [
  {
   "cell_type": "code",
   "execution_count": null,
   "metadata": {},
   "outputs": [],
   "source": [
    "import sys\n",
    "sys.path.append(\"..\") # for sibling import\n",
    "\n",
    "import compyute as cp"
   ]
  },
  {
   "cell_type": "code",
   "execution_count": null,
   "metadata": {},
   "outputs": [],
   "source": [
    "device = \"cuda\" if cp.engine.gpu_available() else \"cpu\"\n",
    "device"
   ]
  },
  {
   "attachments": {},
   "cell_type": "markdown",
   "metadata": {},
   "source": [
    "# Example 4.2\n",
    "\n",
    "### Convolutional Neural Network: more complex data\n",
    "\n",
    "The goal of this model is to classify images of clothing items.\n",
    "\n",
    "### Step 1: Prepare data\n",
    "You will need to download the dataset from https://www.kaggle.com/datasets/zalando-research/fashionmnist?resource=download and place it into the *data* directory. Only using the official training data for training, validation and testing, since it is just to showcase the framework."
   ]
  },
  {
   "cell_type": "code",
   "execution_count": null,
   "metadata": {},
   "outputs": [],
   "source": [
    "# ! pip install pandas"
   ]
  },
  {
   "cell_type": "code",
   "execution_count": null,
   "metadata": {},
   "outputs": [],
   "source": [
    "import pandas as pd\n",
    "\n",
    "data = pd.read_csv('../data/fashion_mnist/fashion-mnist_train.csv')\n",
    "data.head()"
   ]
  },
  {
   "cell_type": "code",
   "execution_count": null,
   "metadata": {},
   "outputs": [],
   "source": [
    "data_tensor = cp.tensor(data.to_numpy())\n",
    "train, val, test = cp.preprocessing.split_train_val_test(data_tensor, ratio_val=0.02, ratio_test=0.02)\n",
    "\n",
    "X_train, y_train = train[:, 1:], train[:, 0].int()\n",
    "X_val, y_val = val[:, :-1], val[:, 0].int()\n",
    "X_test, y_test = test[:, :-1], test[:, 0].int()\n",
    "\n",
    "X_train = X_train.reshape((X_train.shape[0], 1 , 28, -1)).float()\n",
    "X_val = X_val.reshape((X_val.shape[0], 1, 28, -1)).float()\n",
    "X_test = X_test.reshape((X_test.shape[0], 1, 28, -1)).float()\n",
    "\n",
    "X_train = X_train / 255.0\n",
    "X_val = X_val / 255.0\n",
    "X_test = X_test / 255.0\n",
    "\n",
    "print (f'{X_train.shape=}')\n",
    "print (f'{y_train.shape=}')\n",
    "\n",
    "print (f'{X_val.shape=}')\n",
    "print (f'{y_val.shape=}')\n",
    "\n",
    "print (f'{X_test.shape=}')\n",
    "print (f'{y_test.shape=}')"
   ]
  },
  {
   "attachments": {},
   "cell_type": "markdown",
   "metadata": {},
   "source": [
    "### Step 2: Build the neural network structure"
   ]
  },
  {
   "cell_type": "code",
   "execution_count": null,
   "metadata": {},
   "outputs": [],
   "source": [
    "import compyute.nn as nn\n",
    "from compyute.nn.layers import *\n",
    "\n",
    "model = nn.SequentialModel([\n",
    "    Convolution2d(1, 64, kernel_size=(5, 5), pad=\"same\", use_bias=False), Batchnorm(64), ReLU(),\n",
    "    MaxPooling2d(kernel_size=(2, 2)),\n",
    "    Dropout(0.3),\n",
    "    Convolution2d(64, 128, kernel_size=(3, 3), pad=\"same\", use_bias=False), Batchnorm(128), ReLU(),\n",
    "    MaxPooling2d(kernel_size=(2, 2)),\n",
    "    Dropout(0.3),\n",
    "    Flatten(),\n",
    "    Linear(7*7*128, 128, use_bias=False), Batchnorm(128), ReLU(),\n",
    "    Dropout(0.3),\n",
    "    Linear(128, 10)\n",
    "])"
   ]
  },
  {
   "cell_type": "code",
   "execution_count": null,
   "metadata": {},
   "outputs": [],
   "source": [
    "model.compile(\n",
    "    optimizer=nn.optimizers.Adam(3e-4),\n",
    "    loss_fn=nn.losses.Crossentropy(),\n",
    "    metric_fn=nn.metrics.accuracy\n",
    ")\n",
    "model.to_device(device)"
   ]
  },
  {
   "cell_type": "code",
   "execution_count": null,
   "metadata": {},
   "outputs": [],
   "source": [
    "from compyute.nn.analysis import model_summary\n",
    "model_summary(model, (1, 28, 28))"
   ]
  },
  {
   "attachments": {},
   "cell_type": "markdown",
   "metadata": {},
   "source": [
    "### Step 3: Train the model"
   ]
  },
  {
   "cell_type": "code",
   "execution_count": null,
   "metadata": {},
   "outputs": [],
   "source": [
    "epochs = 5\n",
    "batch_size = 128\n",
    "\n",
    "train_losses, train_scores, val_losses, val_scores = model.train(\n",
    "    X_train, y_train, epochs=epochs, batch_size=batch_size, val_data=(X_val, y_val)\n",
    ")"
   ]
  },
  {
   "cell_type": "code",
   "execution_count": null,
   "metadata": {},
   "outputs": [],
   "source": [
    "traces = {\n",
    "    \"train_loss\" : train_losses,\n",
    "    \"train_accuracy\" : train_scores\n",
    "}\n",
    "\n",
    "nn.analysis.plot_curve(traces=traces, figsize=(15, 3), title=\"train history\", x_label=\"steps\", y_label=\"loss/accuracy\")"
   ]
  },
  {
   "cell_type": "code",
   "execution_count": null,
   "metadata": {},
   "outputs": [],
   "source": [
    "traces = {\n",
    "    \"val_losses\" : val_losses,\n",
    "    \"val_scores\" : val_scores\n",
    "}\n",
    "\n",
    "nn.analysis.plot_curve(traces=traces, figsize=(15, 3), title=\"val history\", x_label=\"steps\", y_label=\"loss/accuracy\")"
   ]
  },
  {
   "attachments": {},
   "cell_type": "markdown",
   "metadata": {},
   "source": [
    "### Step 4: Evaluate the model"
   ]
  },
  {
   "cell_type": "code",
   "execution_count": null,
   "metadata": {},
   "outputs": [],
   "source": [
    "loss, accuracy = model.evaluate(X_test, y_test, batch_size)\n",
    "print(f'loss {loss:.4f}')\n",
    "print(f'accuracy {accuracy*100:.2f}')"
   ]
  },
  {
   "cell_type": "code",
   "execution_count": null,
   "metadata": {},
   "outputs": [],
   "source": [
    "predictions = model.predict(X_test, batch_size=batch_size)\n",
    "nn.analysis.plot_confusion_matrix(predictions, y_test, figsize=(5, 5), cmap='Blues')"
   ]
  }
 ],
 "metadata": {
  "kernelspec": {
   "display_name": "Python 3 (ipykernel)",
   "language": "python",
   "name": "python3"
  },
  "language_info": {
   "codemirror_mode": {
    "name": "ipython",
    "version": 3
   },
   "file_extension": ".py",
   "mimetype": "text/x-python",
   "name": "python",
   "nbconvert_exporter": "python",
   "pygments_lexer": "ipython3",
   "version": "3.12.1"
  },
  "vscode": {
   "interpreter": {
    "hash": "deee277ef8cb4a05cf6441d551c854fa5e547ddedbca2c10e6f5685ea62b6c02"
   }
  }
 },
 "nbformat": 4,
 "nbformat_minor": 2
}
