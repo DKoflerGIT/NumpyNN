{
 "cells": [
  {
   "cell_type": "markdown",
   "metadata": {},
   "source": [
    "# LSTM: Air Passengers\n",
    "\n",
    "based on https://github.com/mikel-brostrom/flight-passengers-prediction-LSTM/blob/master/flight_passengers_prediction_LSTM.ipynb"
   ]
  },
  {
   "cell_type": "code",
   "execution_count": null,
   "metadata": {},
   "outputs": [],
   "source": [
    "import compyute as cp"
   ]
  },
  {
   "cell_type": "markdown",
   "metadata": {},
   "source": [
    "## Prepare the Data"
   ]
  },
  {
   "cell_type": "code",
   "execution_count": null,
   "metadata": {},
   "outputs": [],
   "source": [
    "import matplotlib.pyplot as plt\n",
    "import pandas as pd\n",
    "\n",
    "# download the dataset\n",
    "url = \"https://raw.githubusercontent.com/jbrownlee/Datasets/master/airline-passengers.csv\"\n",
    "data = pd.read_csv(url)\n",
    "tensor = cp.tensor(data.iloc[:,1].values)"
   ]
  },
  {
   "cell_type": "code",
   "execution_count": null,
   "metadata": {},
   "outputs": [],
   "source": [
    "# scale values\n",
    "scaled_tensor = cp.preprocessing.normalize(tensor)\n",
    "\n",
    "# save values for inverse transformation\n",
    "train_max = tensor.max().item()\n",
    "train_min = tensor.min().item()\n",
    "\n",
    "# apply a sliding window\n",
    "lookback = 4\n",
    "windowed_tensor = cp.pooling1d(scaled_tensor, window_size=lookback+1)\n",
    "\n",
    "x = windowed_tensor[:, :-1, cp.newaxis]\n",
    "y = windowed_tensor[:, -1, cp.newaxis]\n",
    "\n",
    "# create train and test splits\n",
    "train_size = int(len(y) * 0.4)\n",
    "X_train = x[:train_size]\n",
    "y_train = y[:train_size]\n",
    "\n",
    "print(f\"{x.shape=}\")\n",
    "print(f\"{y.shape=}\")\n",
    "print(f\"{X_train.shape=}\")\n",
    "print(f\"{y_train.shape=}\")"
   ]
  },
  {
   "cell_type": "markdown",
   "metadata": {},
   "source": [
    "## Build the Neural Network"
   ]
  },
  {
   "cell_type": "code",
   "execution_count": null,
   "metadata": {},
   "outputs": [],
   "source": [
    "from compyute import nn\n",
    "\n",
    "lstm = nn.Sequential(\n",
    "    nn.LSTM(1, 2),\n",
    "    nn.Slice(\":, -1, :\"),  # only use last element of the sequence\n",
    "    nn.Linear(2, 1)\n",
    ")"
   ]
  },
  {
   "cell_type": "code",
   "execution_count": null,
   "metadata": {},
   "outputs": [],
   "source": [
    "summary = cp.nn.utils.get_module_summary(lstm, input_shape=(lookback, 1))\n",
    "print(summary)"
   ]
  },
  {
   "cell_type": "markdown",
   "metadata": {},
   "source": [
    "## Training"
   ]
  },
  {
   "cell_type": "code",
   "execution_count": null,
   "metadata": {},
   "outputs": [],
   "source": [
    "from compyute.nn.trainer import Trainer\n",
    "from compyute.nn.trainer.callbacks import History, ProgressBar\n",
    "\n",
    "epochs = 2000\n",
    "optim = nn.optimizers.Adam(lstm.get_parameters(), lr=0.01)\n",
    "history = History()\n",
    "progress = ProgressBar(mode=\"epoch\")\n",
    "\n",
    "trainer = Trainer(\n",
    "    model=lstm,\n",
    "    optimizer=optim,\n",
    "    loss=\"mse\",\n",
    "    callbacks=[history, progress],\n",
    ")\n",
    "\n",
    "trainer.train(X_train, y_train, epochs=epochs, batch_size=-1)"
   ]
  },
  {
   "cell_type": "markdown",
   "metadata": {},
   "source": [
    "## Evaluate Model"
   ]
  },
  {
   "cell_type": "code",
   "execution_count": null,
   "metadata": {},
   "outputs": [],
   "source": [
    "lstm.inference()\n",
    "y_pred = lstm(x)\n",
    "y_pred_scaled = cp.preprocessing.normalize(y_pred, low=train_min, high=train_max)  # rescale outputs to the original scale\n",
    "y_scaled = cp.preprocessing.normalize(y, low=train_min, high=train_max)  # rescale outputs to the original scale\n",
    "\n",
    "plt.axvline(x=train_size, c='r', linestyle='--', label='right limit of GT used')\n",
    "plt.plot(y_scaled, label='GT')\n",
    "plt.plot(y_pred_scaled, label='predictions')\n",
    "plt.suptitle('Time-Series Prediction')\n",
    "plt.legend()\n",
    "plt.show()"
   ]
  }
 ],
 "metadata": {
  "kernelspec": {
   "display_name": "Python 3",
   "language": "python",
   "name": "python3"
  },
  "language_info": {
   "codemirror_mode": {
    "name": "ipython",
    "version": 3
   },
   "file_extension": ".py",
   "mimetype": "text/x-python",
   "name": "python",
   "nbconvert_exporter": "python",
   "pygments_lexer": "ipython3",
   "version": "3.12.6"
  },
  "orig_nbformat": 4
 },
 "nbformat": 4,
 "nbformat_minor": 2
}
