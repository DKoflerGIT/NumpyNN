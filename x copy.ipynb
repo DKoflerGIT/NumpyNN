{
 "cells": [
  {
   "cell_type": "code",
   "execution_count": 17,
   "metadata": {},
   "outputs": [],
   "source": [
    "import compyute as cp"
   ]
  },
  {
   "cell_type": "code",
   "execution_count": 18,
   "metadata": {},
   "outputs": [],
   "source": [
    "\"\"\"block tests\"\"\"\n",
    "\n",
    "import torch\n",
    "from compyute.functional import concatenate\n",
    "from compyute.nn.modules.blocks import LSTMBlock, RecurrentBlock, ResidualBlock\n",
    "from compyute.nn.modules.containers import SequentialContainer\n",
    "from compyute.nn.modules.layers import Linear, ReLU\n",
    "from tests.test_utils import get_vals_float, get_params, validate\n",
    "\n",
    "\n",
    "B, X, Cin, Ch = (5, 3, 4, 6)"
   ]
  },
  {
   "cell_type": "code",
   "execution_count": 19,
   "metadata": {},
   "outputs": [],
   "source": [
    "results = []\n",
    "shape_x = (B, X, Cin)\n",
    "\n",
    "shape_w_i_1 = (4 * Ch, Cin)\n",
    "shape_b_i_1 = (4 * Ch,)\n",
    "shape_w_h_1 = (4 * Ch, Ch)\n",
    "shape_b_h_1 = (4 * Ch,)\n",
    "\n",
    "shape_w_i_2 = (4 * Ch, Ch)\n",
    "shape_b_i_2 = (4 * Ch,)\n",
    "shape_w_h_2 = (4 * Ch, Ch)\n",
    "shape_b_h_2 = (4 * Ch,)\n",
    "\n",
    "# forward\n",
    "compyute_x, torch_x = get_vals_float(shape_x)\n",
    "\n",
    "compyute_w_i_1, torch_w_i_1 = get_params(shape_w_i_1)\n",
    "compyute_w_ii_1, compyute_w_if_1, compyute_w_ig_1, compyute_w_io_1 = (\n",
    "    compyute_w_i_1.split([Ch, 2 * Ch, 3 * Ch], axis=0)\n",
    ")\n",
    "\n",
    "compyute_b_i_1, torch_b_i_1 = get_params(shape_b_i_1)\n",
    "compyute_b_ii_1, compyute_b_if_1, compyute_b_ig_1, compyute_b_io_1 = (\n",
    "    compyute_b_i_1.split([Ch, 2 * Ch, 3 * Ch], axis=0)\n",
    ")\n",
    "\n",
    "compyute_w_h_1, torch_w_h_1 = get_params(shape_w_h_1)\n",
    "compyute_w_hi_1, compyute_w_hf_1, compyute_w_hg_1, compyute_w_ho_1 = (\n",
    "    compyute_w_h_1.split([Ch, 2 * Ch, 3 * Ch], axis=0)\n",
    ")\n",
    "\n",
    "compyute_b_h_1, torch_b_h_1 = get_params(shape_b_h_1)\n",
    "compyute_b_hi_1, compyute_b_hf_1, compyute_b_hg_1, compyute_b_ho_1 = (\n",
    "    compyute_b_h_1.split([Ch, 2 * Ch, 3 * Ch], axis=0)\n",
    ")\n",
    "\n",
    "compyute_w_i_2, torch_w_i_2 = get_params(shape_w_i_2)\n",
    "compyute_w_ii_2, compyute_w_if_2, compyute_w_ig_2, compyute_w_io_2 = (\n",
    "    compyute_w_i_2.split([Ch, 2 * Ch, 3 * Ch], axis=0)\n",
    ")\n",
    "\n",
    "compyute_b_i_2, torch_b_i_2 = get_params(shape_b_i_2)\n",
    "compyute_b_ii_2, compyute_b_if_2, compyute_b_ig_2, compyute_b_io_2 = (\n",
    "    compyute_b_i_2.split([Ch, 2 * Ch, 3 * Ch], axis=0)\n",
    ")\n",
    "\n",
    "compyute_w_h_2, torch_w_h_2 = get_params(shape_w_h_2)\n",
    "compyute_w_hi_2, compyute_w_hf_2, compyute_w_hg_2, compyute_w_ho_2 = (\n",
    "    compyute_w_h_2.split([Ch, 2 * Ch, 3 * Ch], axis=0)\n",
    ")\n",
    "\n",
    "compyute_b_h_2, torch_b_h_2 = get_params(shape_b_h_2)\n",
    "compyute_b_hi_2, compyute_b_hf_2, compyute_b_hg_2, compyute_b_ho_2 = (\n",
    "    compyute_b_h_2.split([Ch, 2 * Ch, 3 * Ch], axis=0)\n",
    ")"
   ]
  },
  {
   "cell_type": "code",
   "execution_count": 20,
   "metadata": {},
   "outputs": [],
   "source": [
    "compyute_module = LSTMBlock(Cin, Ch, num_layers=2)\n",
    "\n",
    "compyute_module.training = True\n",
    "\n",
    "compyute_module.modules[0].w_ii = compyute_w_ii_1\n",
    "compyute_module.modules[0].b_ii = compyute_b_ii_1\n",
    "compyute_module.modules[0].w_if = compyute_w_if_1\n",
    "compyute_module.modules[0].b_if = compyute_b_if_1\n",
    "compyute_module.modules[0].w_ig = compyute_w_ig_1\n",
    "compyute_module.modules[0].b_ig = compyute_b_ig_1\n",
    "compyute_module.modules[0].w_io = compyute_w_io_1\n",
    "compyute_module.modules[0].b_io = compyute_b_io_1\n",
    "compyute_module.modules[0].w_hi = compyute_w_hi_1\n",
    "compyute_module.modules[0].b_hi = compyute_b_hi_1\n",
    "compyute_module.modules[0].w_hf = compyute_w_hf_1\n",
    "compyute_module.modules[0].b_hf = compyute_b_hf_1\n",
    "compyute_module.modules[0].w_hg = compyute_w_hg_1\n",
    "compyute_module.modules[0].b_hg = compyute_b_hg_1\n",
    "compyute_module.modules[0].w_ho = compyute_w_ho_1\n",
    "compyute_module.modules[0].b_ho = compyute_b_ho_1\n",
    "\n",
    "compyute_module.modules[1].w_ii = compyute_w_ii_2\n",
    "compyute_module.modules[1].b_ii = compyute_b_ii_2\n",
    "compyute_module.modules[1].w_if = compyute_w_if_2\n",
    "compyute_module.modules[1].b_if = compyute_b_if_2\n",
    "compyute_module.modules[1].w_ig = compyute_w_ig_2\n",
    "compyute_module.modules[1].b_ig = compyute_b_ig_2\n",
    "compyute_module.modules[1].w_io = compyute_w_io_2\n",
    "compyute_module.modules[1].b_io = compyute_b_io_2\n",
    "compyute_module.modules[1].w_hi = compyute_w_hi_2\n",
    "compyute_module.modules[1].b_hi = compyute_b_hi_2\n",
    "compyute_module.modules[1].w_hf = compyute_w_hf_2\n",
    "compyute_module.modules[1].b_hf = compyute_b_hf_2\n",
    "compyute_module.modules[1].w_hg = compyute_w_hg_2\n",
    "compyute_module.modules[1].b_hg = compyute_b_hg_2\n",
    "compyute_module.modules[1].w_ho = compyute_w_ho_2\n",
    "compyute_module.modules[1].b_ho = compyute_b_ho_2\n",
    "\n",
    "compyute_y = compyute_module(compyute_x)\n",
    "\n",
    "torch_module = torch.nn.LSTMCell(Cin, Ch, batch_first=True, num_layers=2)\n",
    "\n",
    "torch_module.weight_ih_l0 = torch_w_i_1\n",
    "torch_module.bias_ih_l0 = torch_b_i_1\n",
    "torch_module.weight_hh_l0 = torch_w_h_1\n",
    "torch_module.bias_hh_l0 = torch_b_h_1\n",
    "\n",
    "torch_module.weight_ih_l1 = torch_w_i_2\n",
    "torch_module.bias_ih_l1 = torch_b_i_2\n",
    "torch_module.weight_hh_l1 = torch_w_h_2\n",
    "torch_module.bias_hh_l1 = torch_b_h_2\n",
    "\n",
    "torch_y = torch_module(torch_x)[0]  # ouputs tuple of y and hidden_states\n",
    "\n",
    "# backward\n",
    "compyute_dy, torch_dy = get_vals_float(compyute_y.shape, torch_grad=False)\n",
    "compyute_dx = compyute_module.backward(compyute_dy)\n",
    "torch_y.backward(torch_dy)"
   ]
  },
  {
   "cell_type": "code",
   "execution_count": 21,
   "metadata": {},
   "outputs": [
    {
     "data": {
      "text/plain": [
       "True"
      ]
     },
     "execution_count": 21,
     "metadata": {},
     "output_type": "execute_result"
    }
   ],
   "source": [
    "validate(compyute_y, torch_y)"
   ]
  },
  {
   "cell_type": "code",
   "execution_count": 22,
   "metadata": {},
   "outputs": [
    {
     "data": {
      "text/plain": [
       "Tensor([[[-1.2861e-03, -4.5657e-04,  1.1427e-03,  1.1959e-03],\n",
       "         [-4.8020e-04, -7.5262e-05,  1.1570e-04,  1.0328e-04],\n",
       "         [-1.1263e-03,  1.9435e-05,  7.5791e-05, -1.7848e-04]],\n",
       "\n",
       "        [[ 1.8539e-03,  4.0825e-04, -2.4661e-03, -3.1237e-03],\n",
       "         [ 3.1535e-05, -8.0394e-04, -5.9258e-04, -1.3036e-03],\n",
       "         [-9.1822e-04, -2.0787e-03,  1.7102e-04, -8.2180e-04]],\n",
       "\n",
       "        [[-8.8995e-04,  8.5191e-04,  5.0376e-04,  8.6514e-04],\n",
       "         [-1.1176e-03, -8.4944e-04,  1.3199e-03,  1.2356e-03],\n",
       "         [-6.5486e-04, -1.0773e-03,  2.9176e-04, -1.4895e-04]],\n",
       "\n",
       "        [[-2.1519e-04,  3.3133e-04, -1.3841e-03, -1.7686e-03],\n",
       "         [-4.2433e-04,  4.4863e-04, -4.1094e-04, -7.6248e-04],\n",
       "         [-7.0439e-04, -2.8205e-04,  3.4677e-04,  7.2698e-05]],\n",
       "\n",
       "        [[-1.1063e-03, -3.9306e-04,  6.7919e-04,  4.9577e-04],\n",
       "         [-3.0505e-04, -7.0166e-04,  5.1780e-04,  3.2572e-04],\n",
       "         [ 3.4658e-04, -1.9411e-04,  7.1137e-04,  7.2359e-04]]], dtype='float32', shape=(5, 3, 4), device='cpu')"
      ]
     },
     "execution_count": 22,
     "metadata": {},
     "output_type": "execute_result"
    }
   ],
   "source": [
    "compyute_dx"
   ]
  },
  {
   "cell_type": "code",
   "execution_count": 23,
   "metadata": {},
   "outputs": [
    {
     "data": {
      "text/plain": [
       "tensor([[[-1.2773e-03, -4.7256e-04,  1.0552e-03,  1.0763e-03],\n",
       "         [-4.4221e-04, -8.1148e-05,  3.6636e-05,  2.4727e-06],\n",
       "         [-1.1263e-03,  1.9434e-05,  7.5791e-05, -1.7848e-04]],\n",
       "\n",
       "        [[ 1.8193e-03,  3.8014e-04, -2.5092e-03, -3.1901e-03],\n",
       "         [-2.5525e-05, -8.3880e-04, -5.9155e-04, -1.3181e-03],\n",
       "         [-9.1822e-04, -2.0787e-03,  1.7102e-04, -8.2180e-04]],\n",
       "\n",
       "        [[-9.8149e-04,  8.1473e-04,  5.4710e-04,  9.0651e-04],\n",
       "         [-1.1664e-03, -8.6965e-04,  1.3556e-03,  1.2753e-03],\n",
       "         [-6.5486e-04, -1.0773e-03,  2.9176e-04, -1.4895e-04]],\n",
       "\n",
       "        [[-1.2224e-04,  3.2152e-04, -1.4578e-03, -1.8520e-03],\n",
       "         [-3.9371e-04,  4.3749e-04, -4.5309e-04, -8.1443e-04],\n",
       "         [-7.0439e-04, -2.8204e-04,  3.4677e-04,  7.2698e-05]],\n",
       "\n",
       "        [[-1.1661e-03, -4.1495e-04,  7.1780e-04,  5.3751e-04],\n",
       "         [-3.3544e-04, -7.1018e-04,  5.4847e-04,  3.6326e-04],\n",
       "         [ 3.4658e-04, -1.9411e-04,  7.1137e-04,  7.2359e-04]]])"
      ]
     },
     "execution_count": 23,
     "metadata": {},
     "output_type": "execute_result"
    }
   ],
   "source": [
    "torch_x.grad"
   ]
  },
  {
   "cell_type": "code",
   "execution_count": 24,
   "metadata": {},
   "outputs": [
    {
     "data": {
      "text/plain": [
       "False"
      ]
     },
     "execution_count": 24,
     "metadata": {},
     "output_type": "execute_result"
    }
   ],
   "source": [
    "validate(compyute_dx, torch_x.grad)"
   ]
  },
  {
   "cell_type": "code",
   "execution_count": 25,
   "metadata": {},
   "outputs": [
    {
     "data": {
      "text/plain": [
       "False"
      ]
     },
     "execution_count": 25,
     "metadata": {},
     "output_type": "execute_result"
    }
   ],
   "source": [
    "layers = compyute_module.modules\n",
    "\n",
    "# input 1 grads\n",
    "w_i_1_grads = concatenate(\n",
    "    [\n",
    "        layers[0].w_ii.grad,\n",
    "        layers[0].w_if.grad,\n",
    "        layers[0].w_ig.grad,\n",
    "        layers[0].w_io.grad,\n",
    "    ], axis=0\n",
    ")\n",
    "validate(w_i_1_grads, torch_module.weight_ih_l0.grad)"
   ]
  },
  {
   "cell_type": "code",
   "execution_count": 26,
   "metadata": {},
   "outputs": [
    {
     "data": {
      "text/plain": [
       "False"
      ]
     },
     "execution_count": 26,
     "metadata": {},
     "output_type": "execute_result"
    }
   ],
   "source": [
    "b_i_1_grads = concatenate(\n",
    "    [\n",
    "        layers[0].b_ii.grad,\n",
    "        layers[0].b_if.grad,\n",
    "        layers[0].b_ig.grad,\n",
    "        layers[0].b_io.grad,\n",
    "    ], axis=0\n",
    ")\n",
    "validate(b_i_1_grads, torch_module.bias_ih_l0.grad)"
   ]
  },
  {
   "cell_type": "code",
   "execution_count": 27,
   "metadata": {},
   "outputs": [
    {
     "data": {
      "text/plain": [
       "False"
      ]
     },
     "execution_count": 27,
     "metadata": {},
     "output_type": "execute_result"
    }
   ],
   "source": [
    "# hidden 1 grads\n",
    "w_h_1_grads = concatenate(\n",
    "    [\n",
    "        layers[0].w_hi.grad,\n",
    "        layers[0].w_hf.grad,\n",
    "        layers[0].w_hg.grad,\n",
    "        layers[0].w_ho.grad,\n",
    "    ], axis=0\n",
    ")\n",
    "validate(w_h_1_grads, torch_module.weight_hh_l0.grad)"
   ]
  },
  {
   "cell_type": "code",
   "execution_count": 28,
   "metadata": {},
   "outputs": [
    {
     "data": {
      "text/plain": [
       "False"
      ]
     },
     "execution_count": 28,
     "metadata": {},
     "output_type": "execute_result"
    }
   ],
   "source": [
    "b_h_1_grads = concatenate(\n",
    "    [\n",
    "        layers[0].b_hi.grad,\n",
    "        layers[0].b_hf.grad,\n",
    "        layers[0].b_hg.grad,\n",
    "        layers[0].b_ho.grad,\n",
    "    ], axis=0\n",
    ")\n",
    "validate(b_h_1_grads, torch_module.bias_hh_l0.grad)"
   ]
  },
  {
   "cell_type": "code",
   "execution_count": 29,
   "metadata": {},
   "outputs": [
    {
     "data": {
      "text/plain": [
       "False"
      ]
     },
     "execution_count": 29,
     "metadata": {},
     "output_type": "execute_result"
    }
   ],
   "source": [
    "# input 2 grads\n",
    "w_i_2_grads = concatenate(\n",
    "    [\n",
    "        layers[1].w_ii.grad,\n",
    "        layers[1].w_if.grad,\n",
    "        layers[1].w_ig.grad,\n",
    "        layers[1].w_io.grad,\n",
    "    ], axis=0\n",
    ")\n",
    "validate(w_i_2_grads, torch_module.weight_ih_l1.grad)"
   ]
  },
  {
   "cell_type": "code",
   "execution_count": 30,
   "metadata": {},
   "outputs": [
    {
     "data": {
      "text/plain": [
       "False"
      ]
     },
     "execution_count": 30,
     "metadata": {},
     "output_type": "execute_result"
    }
   ],
   "source": [
    "b_i_2_grads = concatenate(\n",
    "    [\n",
    "        layers[1].b_ii.grad,\n",
    "        layers[1].b_if.grad,\n",
    "        layers[1].b_ig.grad,\n",
    "        layers[1].b_io.grad,\n",
    "    ], axis=0\n",
    ")\n",
    "validate(b_i_2_grads, torch_module.bias_ih_l1.grad)"
   ]
  },
  {
   "cell_type": "code",
   "execution_count": 31,
   "metadata": {},
   "outputs": [
    {
     "data": {
      "text/plain": [
       "False"
      ]
     },
     "execution_count": 31,
     "metadata": {},
     "output_type": "execute_result"
    }
   ],
   "source": [
    "# hidden 2 grads\n",
    "w_h_2_grads = concatenate(\n",
    "    [\n",
    "        layers[1].w_hi.grad,\n",
    "        layers[1].w_hf.grad,\n",
    "        layers[1].w_hg.grad,\n",
    "        layers[1].w_ho.grad,\n",
    "    ], axis=0\n",
    ")\n",
    "validate(w_h_2_grads, torch_module.weight_hh_l1.grad)"
   ]
  },
  {
   "cell_type": "code",
   "execution_count": 32,
   "metadata": {},
   "outputs": [
    {
     "data": {
      "text/plain": [
       "False"
      ]
     },
     "execution_count": 32,
     "metadata": {},
     "output_type": "execute_result"
    }
   ],
   "source": [
    "b_h_2_grads = concatenate(\n",
    "    [\n",
    "        layers[1].b_hi.grad,\n",
    "        layers[1].b_hf.grad,\n",
    "        layers[1].b_hg.grad,\n",
    "        layers[1].b_ho.grad,\n",
    "    ], axis=0\n",
    ")\n",
    "validate(b_h_2_grads, torch_module.bias_hh_l1.grad)"
   ]
  }
 ],
 "metadata": {
  "kernelspec": {
   "display_name": "Python 3",
   "language": "python",
   "name": "python3"
  },
  "language_info": {
   "codemirror_mode": {
    "name": "ipython",
    "version": 3
   },
   "file_extension": ".py",
   "mimetype": "text/x-python",
   "name": "python",
   "nbconvert_exporter": "python",
   "pygments_lexer": "ipython3",
   "version": "3.12.1"
  },
  "orig_nbformat": 4
 },
 "nbformat": 4,
 "nbformat_minor": 2
}
