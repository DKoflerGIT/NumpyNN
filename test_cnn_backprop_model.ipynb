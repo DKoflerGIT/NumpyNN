{
 "cells": [
  {
   "cell_type": "code",
   "execution_count": null,
   "metadata": {},
   "outputs": [],
   "source": [
    "from model import layers, activations, networks, utils, optimizers, losses, metrics, paddings\n",
    "import numpy as np\n",
    "import matplotlib.pyplot as plt\n",
    "import random"
   ]
  },
  {
   "cell_type": "code",
   "execution_count": null,
   "metadata": {},
   "outputs": [],
   "source": [
    "x_train = np.array([\n",
    "    [\n",
    "        [[1], [1], [255], [1], [1]],\n",
    "        [[1], [1], [255], [1], [1]],\n",
    "        [[1], [1], [255], [1], [1]],\n",
    "        [[1], [1], [255], [1], [1]],\n",
    "        [[1], [1], [255], [1], [1]]\n",
    "    ]\n",
    "])\n",
    "x_train = x_train / 255\n",
    "plt.imshow(x_train[0], cmap='gray')"
   ]
  },
  {
   "cell_type": "code",
   "execution_count": null,
   "metadata": {},
   "outputs": [],
   "source": [
    "y_train = np.array([\n",
    "    [0, 0, 1, 0, 0, 0, 0, 0, 0]\n",
    "])\n",
    "y_train.shape"
   ]
  },
  {
   "cell_type": "code",
   "execution_count": null,
   "metadata": {},
   "outputs": [],
   "source": [
    "model = networks.FeedForward([\n",
    "    layers.Input(input_shape=(5, 5, 1)),\n",
    "    layers.Convolution(nr_kernels=1, kernel_size=(3, 3), activation=activations.Sigmoid, padding=paddings.Same),\n",
    "    layers.Convolution(nr_kernels=1, kernel_size=(3, 3), activation=activations.Sigmoid, padding=paddings.Valid),\n",
    "    layers.Flatten(),\n",
    "    layers.Output()\n",
    "])"
   ]
  },
  {
   "cell_type": "code",
   "execution_count": null,
   "metadata": {},
   "outputs": [],
   "source": [
    "model.compile(\n",
    "    optimizer=optimizers.sgd(learning_rate=1),\n",
    "    loss=losses.root_mean_square,\n",
    "    metric=metrics.Accuracy)"
   ]
  },
  {
   "cell_type": "code",
   "execution_count": null,
   "metadata": {},
   "outputs": [],
   "source": [
    "model.summary()"
   ]
  },
  {
   "cell_type": "code",
   "execution_count": null,
   "metadata": {},
   "outputs": [],
   "source": [
    "model.train(x_train, y_train, epochs=1000)"
   ]
  },
  {
   "cell_type": "code",
   "execution_count": null,
   "metadata": {},
   "outputs": [],
   "source": [
    "plt.bar(np.arange(9), model.predict(x_train[0]))"
   ]
  }
 ],
 "metadata": {
  "kernelspec": {
   "display_name": "Python 3.10.1 64-bit",
   "language": "python",
   "name": "python3"
  },
  "language_info": {
   "codemirror_mode": {
    "name": "ipython",
    "version": 3
   },
   "file_extension": ".py",
   "mimetype": "text/x-python",
   "name": "python",
   "nbconvert_exporter": "python",
   "pygments_lexer": "ipython3",
   "version": "3.10.1"
  },
  "orig_nbformat": 4,
  "vscode": {
   "interpreter": {
    "hash": "deee277ef8cb4a05cf6441d551c854fa5e547ddedbca2c10e6f5685ea62b6c02"
   }
  }
 },
 "nbformat": 4,
 "nbformat_minor": 2
}
