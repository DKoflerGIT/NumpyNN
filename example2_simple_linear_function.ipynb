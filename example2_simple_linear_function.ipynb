{
 "cells": [
  {
   "attachments": {},
   "cell_type": "markdown",
   "metadata": {},
   "source": [
    "# Example 2\n",
    "### Learning a simple linear function using one linear layer\n",
    "Here input and target values are defined. Currently, the model requires a minimum input dim of 2."
   ]
  },
  {
   "cell_type": "code",
   "execution_count": null,
   "metadata": {},
   "outputs": [],
   "source": [
    "import walnut\n",
    "\n",
    "X = walnut.Tensor([-1.0, 0.0, 1.0, 2.0, 3.0, 4.0])\n",
    "X = walnut.expand_dims(X, -1) # input must be dim 2\n",
    "\n",
    "Y = walnut.Tensor([-3.0, -1.0, 1.0, 3.0, 5.0, 7.0])\n",
    "Y = walnut.expand_dims(Y, -1) # output must be dim 2"
   ]
  },
  {
   "attachments": {},
   "cell_type": "markdown",
   "metadata": {},
   "source": [
    "The model is defined using one linear layer with one neuron (`out_channels=1`) and information about the shape of the samles (`input_shape=(1,)`). To evaluate the model during the training process a loss function (here the mean squared error) is used. After computing the loss, an optimizer is used to update the model and improve the next prediction."
   ]
  },
  {
   "cell_type": "code",
   "execution_count": null,
   "metadata": {},
   "outputs": [],
   "source": [
    "import walnut.nn as nn\n",
    "\n",
    "model = nn.Sequential(layers=[nn.layers.Linear(1, input_shape=(1,))])\n",
    "model.compile(optimizer=nn.optimizers.SGD(), loss_fn=nn.losses.MSE(), metric=nn.metrics.Accuracy())"
   ]
  },
  {
   "attachments": {},
   "cell_type": "markdown",
   "metadata": {},
   "source": [
    "The model can then be trained using input and target values. This is done in a loop 500 times."
   ]
  },
  {
   "cell_type": "code",
   "execution_count": null,
   "metadata": {},
   "outputs": [],
   "source": [
    "train_loss_hist, val_loss_hist = model.train(X, Y, epochs=1000, verbose=True)"
   ]
  },
  {
   "attachments": {},
   "cell_type": "markdown",
   "metadata": {},
   "source": [
    "After training the model, it can be used to make predictions."
   ]
  },
  {
   "cell_type": "code",
   "execution_count": null,
   "metadata": {},
   "outputs": [],
   "source": [
    "model(walnut.Tensor([[10]]))"
   ]
  }
 ],
 "metadata": {
  "kernelspec": {
   "display_name": "Python 3",
   "language": "python",
   "name": "python3"
  },
  "language_info": {
   "codemirror_mode": {
    "name": "ipython",
    "version": 3
   },
   "file_extension": ".py",
   "mimetype": "text/x-python",
   "name": "python",
   "nbconvert_exporter": "python",
   "pygments_lexer": "ipython3",
   "version": "3.10.1"
  },
  "orig_nbformat": 4
 },
 "nbformat": 4,
 "nbformat_minor": 2
}
